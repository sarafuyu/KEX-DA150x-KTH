{
 "cells": [
  {
   "cell_type": "markdown",
   "metadata": {
    "id": "cNIZ0oiqVv8q"
   },
   "source": [
    "# Data Processing\n",
    "\n",
    "Data visualization, cleaning, division, and normalization.\n",
    "\n",
    "* Execute small adjustments/renaming of columns\n",
    "* Disease parameter: DMD/Cnt -> 1/0\n",
    "* Remove rows if:\n",
    "  * Sample.ID's value is \"BLANK\", \"POOL 1\" or \"POOL 2\"\n",
    "  * Disease or Sample.ID value for row is missing  \n",
    "* If there are multiple rows with same Sample.ID, drop the duplicate rows with fewer value entires\n",
    "  * Might need to evalueate manually or reevaluate the heuristiics (which proteins to prioritize over others)\n",
    "* Remove columns of antibody consentrations if there are no data entries\n",
    "\n",
    "* TODO: debugg, continue with later points\n",
    "* Potentionally normalize intensities: [-1, 1] or [0, 1]\n",
    "* Create new column for LoA based on FT1-5 \n",
    "\n",
    "* Flytta om ordningen på kolumnerna så att varje rad blir en vektor på formen <<METADATA>,<Y>,<X>> där <X> är [LoA], <Y> är intensiteterna (och eventuellt ålder senare) och <METADATA> är allt annat.\n",
    "\n",
    "* Run a SVM with our input data"
   ]
  },
  {
   "cell_type": "markdown",
   "metadata": {},
   "source": [
    "## Enviroment to read and process DMD data"
   ]
  },
  {
   "cell_type": "markdown",
   "metadata": {
    "id": "yeiNQxvnXphM"
   },
   "source": [
    "Imports used for data processing and cleaning"
   ]
  },
  {
   "cell_type": "code",
   "execution_count": 115,
   "metadata": {
    "executionInfo": {
     "elapsed": 3,
     "status": "ok",
     "timestamp": 1710344580569,
     "user": {
      "displayName": "jnxmaster",
      "userId": "16130325099071186302"
     },
     "user_tz": -60
    },
    "id": "7Y_AEHs1hXrm",
    "is_executing": true
   },
   "outputs": [],
   "source": [
    "import pandas as pd\n",
    "import numpy as np"
   ]
  },
  {
   "cell_type": "markdown",
   "metadata": {
    "id": "HhloDaQfbCZK"
   },
   "source": [
    "Load CSV file through pandas dataframe"
   ]
  },
  {
   "cell_type": "code",
   "execution_count": 116,
   "metadata": {
    "colab": {
     "base_uri": "https://localhost:8080/",
     "height": 273
    },
    "executionInfo": {
     "elapsed": 484,
     "status": "ok",
     "timestamp": 1710344581051,
     "user": {
      "displayName": "jnxmaster",
      "userId": "16130325099071186302"
     },
     "user_tz": -60
    },
    "id": "lUDzHuv3Xxcm",
    "outputId": "c9cdef14-583c-495f-e44c-a0ea72be5bdb"
   },
   "outputs": [
    {
     "data": {
      "text/html": [
       "<div>\n",
       "<style scoped>\n",
       "    .dataframe tbody tr th:only-of-type {\n",
       "        vertical-align: middle;\n",
       "    }\n",
       "\n",
       "    .dataframe tbody tr th {\n",
       "        vertical-align: top;\n",
       "    }\n",
       "\n",
       "    .dataframe thead th {\n",
       "        text-align: right;\n",
       "    }\n",
       "</style>\n",
       "<table border=\"1\" class=\"dataframe\">\n",
       "  <thead>\n",
       "    <tr style=\"text-align: right;\">\n",
       "      <th></th>\n",
       "      <th>Unnamed: 0</th>\n",
       "      <th>Sample.ID</th>\n",
       "      <th>Participant.ID</th>\n",
       "      <th>dataset</th>\n",
       "      <th>Disease</th>\n",
       "      <th>serum.age</th>\n",
       "      <th>TREAT</th>\n",
       "      <th>FT1</th>\n",
       "      <th>FT2</th>\n",
       "      <th>FT3</th>\n",
       "      <th>...</th>\n",
       "      <th>HPA049320_SBA4_rep1</th>\n",
       "      <th>HPA051620_SBA4_rep1</th>\n",
       "      <th>HPA054862_SBA4_rep1</th>\n",
       "      <th>HPA003901_SBA4_rep1</th>\n",
       "      <th>HPA035863_SBA4_rep1</th>\n",
       "      <th>HPA040052_SBA4_rep1</th>\n",
       "      <th>HPA041542_SBA4_rep1</th>\n",
       "      <th>HPA044582_SBA4_rep1</th>\n",
       "      <th>HPA045702_SBA4_rep1</th>\n",
       "      <th>HPA048982_SBA4_rep1</th>\n",
       "    </tr>\n",
       "  </thead>\n",
       "  <tbody>\n",
       "    <tr>\n",
       "      <th>0</th>\n",
       "      <td>1</td>\n",
       "      <td>S87</td>\n",
       "      <td>P3</td>\n",
       "      <td>DNHS</td>\n",
       "      <td>DMD</td>\n",
       "      <td>11.60849</td>\n",
       "      <td>NaN</td>\n",
       "      <td>0.0</td>\n",
       "      <td>0.0</td>\n",
       "      <td>NaN</td>\n",
       "      <td>...</td>\n",
       "      <td>12.476497</td>\n",
       "      <td>12.666707</td>\n",
       "      <td>12.331400</td>\n",
       "      <td>12.410101</td>\n",
       "      <td>12.504796</td>\n",
       "      <td>12.580695</td>\n",
       "      <td>12.574592</td>\n",
       "      <td>12.797013</td>\n",
       "      <td>12.492433</td>\n",
       "      <td>12.622226</td>\n",
       "    </tr>\n",
       "    <tr>\n",
       "      <th>1</th>\n",
       "      <td>2</td>\n",
       "      <td>S10</td>\n",
       "      <td>P3</td>\n",
       "      <td>DNHS</td>\n",
       "      <td>DMD</td>\n",
       "      <td>12.62423</td>\n",
       "      <td>NaN</td>\n",
       "      <td>NaN</td>\n",
       "      <td>NaN</td>\n",
       "      <td>NaN</td>\n",
       "      <td>...</td>\n",
       "      <td>12.494297</td>\n",
       "      <td>12.564169</td>\n",
       "      <td>12.354718</td>\n",
       "      <td>12.581718</td>\n",
       "      <td>12.441237</td>\n",
       "      <td>12.583769</td>\n",
       "      <td>12.579893</td>\n",
       "      <td>12.660894</td>\n",
       "      <td>12.450384</td>\n",
       "      <td>12.704464</td>\n",
       "    </tr>\n",
       "    <tr>\n",
       "      <th>2</th>\n",
       "      <td>3</td>\n",
       "      <td>S19</td>\n",
       "      <td>P3</td>\n",
       "      <td>DNHS</td>\n",
       "      <td>DMD</td>\n",
       "      <td>13.62081</td>\n",
       "      <td>NaN</td>\n",
       "      <td>NaN</td>\n",
       "      <td>NaN</td>\n",
       "      <td>NaN</td>\n",
       "      <td>...</td>\n",
       "      <td>12.554581</td>\n",
       "      <td>12.707240</td>\n",
       "      <td>12.460004</td>\n",
       "      <td>12.610387</td>\n",
       "      <td>12.504661</td>\n",
       "      <td>12.556319</td>\n",
       "      <td>12.679701</td>\n",
       "      <td>12.824755</td>\n",
       "      <td>12.517335</td>\n",
       "      <td>12.836970</td>\n",
       "    </tr>\n",
       "    <tr>\n",
       "      <th>3</th>\n",
       "      <td>4</td>\n",
       "      <td>S137</td>\n",
       "      <td>P4</td>\n",
       "      <td>DNHS</td>\n",
       "      <td>DMD</td>\n",
       "      <td>11.42505</td>\n",
       "      <td>NaN</td>\n",
       "      <td>NaN</td>\n",
       "      <td>NaN</td>\n",
       "      <td>NaN</td>\n",
       "      <td>...</td>\n",
       "      <td>12.455811</td>\n",
       "      <td>12.505603</td>\n",
       "      <td>12.416459</td>\n",
       "      <td>12.510771</td>\n",
       "      <td>12.472934</td>\n",
       "      <td>12.556096</td>\n",
       "      <td>12.473760</td>\n",
       "      <td>12.744020</td>\n",
       "      <td>12.511776</td>\n",
       "      <td>12.666065</td>\n",
       "    </tr>\n",
       "    <tr>\n",
       "      <th>4</th>\n",
       "      <td>5</td>\n",
       "      <td>S182</td>\n",
       "      <td>P4</td>\n",
       "      <td>DNHS</td>\n",
       "      <td>DMD</td>\n",
       "      <td>13.24572</td>\n",
       "      <td>NaN</td>\n",
       "      <td>NaN</td>\n",
       "      <td>NaN</td>\n",
       "      <td>NaN</td>\n",
       "      <td>...</td>\n",
       "      <td>12.523768</td>\n",
       "      <td>12.598164</td>\n",
       "      <td>12.369592</td>\n",
       "      <td>12.605211</td>\n",
       "      <td>12.523768</td>\n",
       "      <td>12.503911</td>\n",
       "      <td>12.557672</td>\n",
       "      <td>12.926602</td>\n",
       "      <td>12.518327</td>\n",
       "      <td>12.668579</td>\n",
       "    </tr>\n",
       "  </tbody>\n",
       "</table>\n",
       "<p>5 rows × 1039 columns</p>\n",
       "</div>"
      ],
      "text/plain": [
       "   Unnamed: 0 Sample.ID Participant.ID dataset Disease  serum.age TREAT  FT1  \\\n",
       "0           1       S87             P3    DNHS     DMD   11.60849   NaN  0.0   \n",
       "1           2       S10             P3    DNHS     DMD   12.62423   NaN  NaN   \n",
       "2           3       S19             P3    DNHS     DMD   13.62081   NaN  NaN   \n",
       "3           4      S137             P4    DNHS     DMD   11.42505   NaN  NaN   \n",
       "4           5      S182             P4    DNHS     DMD   13.24572   NaN  NaN   \n",
       "\n",
       "   FT2  FT3  ...  HPA049320_SBA4_rep1  HPA051620_SBA4_rep1  \\\n",
       "0  0.0  NaN  ...            12.476497            12.666707   \n",
       "1  NaN  NaN  ...            12.494297            12.564169   \n",
       "2  NaN  NaN  ...            12.554581            12.707240   \n",
       "3  NaN  NaN  ...            12.455811            12.505603   \n",
       "4  NaN  NaN  ...            12.523768            12.598164   \n",
       "\n",
       "   HPA054862_SBA4_rep1 HPA003901_SBA4_rep1  HPA035863_SBA4_rep1  \\\n",
       "0            12.331400           12.410101            12.504796   \n",
       "1            12.354718           12.581718            12.441237   \n",
       "2            12.460004           12.610387            12.504661   \n",
       "3            12.416459           12.510771            12.472934   \n",
       "4            12.369592           12.605211            12.523768   \n",
       "\n",
       "   HPA040052_SBA4_rep1  HPA041542_SBA4_rep1  HPA044582_SBA4_rep1  \\\n",
       "0            12.580695            12.574592            12.797013   \n",
       "1            12.583769            12.579893            12.660894   \n",
       "2            12.556319            12.679701            12.824755   \n",
       "3            12.556096            12.473760            12.744020   \n",
       "4            12.503911            12.557672            12.926602   \n",
       "\n",
       "   HPA045702_SBA4_rep1  HPA048982_SBA4_rep1  \n",
       "0            12.492433            12.622226  \n",
       "1            12.450384            12.704464  \n",
       "2            12.517335            12.836970  \n",
       "3            12.511776            12.666065  \n",
       "4            12.518327            12.668579  \n",
       "\n",
       "[5 rows x 1039 columns]"
      ]
     },
     "execution_count": 116,
     "metadata": {},
     "output_type": "execute_result"
    }
   ],
   "source": [
    "dataset = pd.read_csv('normalised_data_all_w_clinical_kex.csv')\n",
    "dataset.head() # Pre-view first five rows"
   ]
  },
  {
   "cell_type": "markdown",
   "metadata": {
    "id": "-mU1AUw0annb"
   },
   "source": [
    "### First Data Visualization & Processing"
   ]
  },
  {
   "cell_type": "code",
   "execution_count": 117,
   "metadata": {
    "colab": {
     "base_uri": "https://localhost:8080/"
    },
    "executionInfo": {
     "elapsed": 16,
     "status": "ok",
     "timestamp": 1710344581051,
     "user": {
      "displayName": "jnxmaster",
      "userId": "16130325099071186302"
     },
     "user_tz": -60
    },
    "id": "asoW3GxdRCIP",
    "outputId": "701e6f2f-d361-43d3-da08-8238f555f69d"
   },
   "outputs": [
    {
     "name": "stdout",
     "output_type": "stream",
     "text": [
      "Index(['ID', 'Sample.ID', 'Participant.ID', 'Dataset', 'Disease',\n",
      "       'Participant.Age', 'TREAT', 'FT1', 'FT2', 'FT3',\n",
      "       ...\n",
      "       'HPA049320_SBA4_rep1', 'HPA051620_SBA4_rep1', 'HPA054862_SBA4_rep1',\n",
      "       'HPA003901_SBA4_rep1', 'HPA035863_SBA4_rep1', 'HPA040052_SBA4_rep1',\n",
      "       'HPA041542_SBA4_rep1', 'HPA044582_SBA4_rep1', 'HPA045702_SBA4_rep1',\n",
      "       'HPA048982_SBA4_rep1'],\n",
      "      dtype='object', length=1039)\n",
      "      ID Sample.ID Participant.ID Dataset  Disease  Participant.Age  \\\n",
      "0      1       S87             P3    DNHS      1.0         11.60849   \n",
      "1      2       S10             P3    DNHS      1.0         12.62423   \n",
      "2      3       S19             P3    DNHS      1.0         13.62081   \n",
      "3      4      S137             P4    DNHS      1.0         11.42505   \n",
      "4      5      S182             P4    DNHS      1.0         13.24572   \n",
      "..   ...       ...            ...     ...      ...              ...   \n",
      "379  380      S306            P29  FORDMD      1.0              NaN   \n",
      "380  381      S300            P29  FORDMD      1.0              NaN   \n",
      "381  382      S174            P30  FORDMD      1.0              NaN   \n",
      "382  383       S94            P30  FORDMD      1.0              NaN   \n",
      "383  384       S92            P55  FORDMD      1.0              NaN   \n",
      "\n",
      "         TREAT       FT1  FT2       FT3  ...  HPA049320_SBA4_rep1  \\\n",
      "0          NaN  0.000000  0.0       NaN  ...            12.476497   \n",
      "1          NaN       NaN  NaN       NaN  ...            12.494297   \n",
      "2          NaN       NaN  NaN       NaN  ...            12.554581   \n",
      "3          NaN       NaN  NaN       NaN  ...            12.455811   \n",
      "4          NaN       NaN  NaN       NaN  ...            12.523768   \n",
      "..         ...       ...  ...       ...  ...                  ...   \n",
      "379  DAILY DFL  0.277778  NaN  0.344828  ...                  NaN   \n",
      "380  DAILY DFL  0.263158  NaN  0.370370  ...            12.447273   \n",
      "381   INT PRED  0.135135  NaN  0.138889  ...            12.593581   \n",
      "382   INT PRED  0.121951  NaN  0.131579  ...            12.690320   \n",
      "383   INT PRED  0.156250  NaN  0.285714  ...            12.575577   \n",
      "\n",
      "     HPA051620_SBA4_rep1  HPA054862_SBA4_rep1 HPA003901_SBA4_rep1  \\\n",
      "0              12.666707            12.331400           12.410101   \n",
      "1              12.564169            12.354718           12.581718   \n",
      "2              12.707240            12.460004           12.610387   \n",
      "3              12.505603            12.416459           12.510771   \n",
      "4              12.598164            12.369592           12.605211   \n",
      "..                   ...                  ...                 ...   \n",
      "379            12.482395                  NaN           12.507407   \n",
      "380            12.571607                  NaN                 NaN   \n",
      "381            12.472878            12.485524           12.577113   \n",
      "382            12.567491            12.393083           12.605736   \n",
      "383            12.586700            12.345330           12.533139   \n",
      "\n",
      "     HPA035863_SBA4_rep1  HPA040052_SBA4_rep1  HPA041542_SBA4_rep1  \\\n",
      "0              12.504796            12.580695            12.574592   \n",
      "1              12.441237            12.583769            12.579893   \n",
      "2              12.504661            12.556319            12.679701   \n",
      "3              12.472934            12.556096            12.473760   \n",
      "4              12.523768            12.503911            12.557672   \n",
      "..                   ...                  ...                  ...   \n",
      "379            12.463331                  NaN                  NaN   \n",
      "380            12.650030            12.364597            12.546786   \n",
      "381            12.540618            12.468389            12.561020   \n",
      "382            12.417233            12.585344            12.627408   \n",
      "383            12.558741            12.511961            12.391056   \n",
      "\n",
      "     HPA044582_SBA4_rep1  HPA045702_SBA4_rep1  HPA048982_SBA4_rep1  \n",
      "0              12.797013            12.492433            12.622226  \n",
      "1              12.660894            12.450384            12.704464  \n",
      "2              12.824755            12.517335            12.836970  \n",
      "3              12.744020            12.511776            12.666065  \n",
      "4              12.926602            12.518327            12.668579  \n",
      "..                   ...                  ...                  ...  \n",
      "379            12.924216            12.584666                  NaN  \n",
      "380            12.778987                  NaN                  NaN  \n",
      "381            12.762266            12.492617            12.650800  \n",
      "382            12.903944            12.589638            12.668066  \n",
      "383            12.873814            12.517041            12.745047  \n",
      "\n",
      "[384 rows x 1039 columns]\n"
     ]
    },
    {
     "name": "stderr",
     "output_type": "stream",
     "text": [
      "C:\\Users\\sarar\\AppData\\Local\\Temp\\ipykernel_18956\\2792983526.py:8: FutureWarning: Downcasting behavior in `replace` is deprecated and will be removed in a future version. To retain the old behavior, explicitly call `result.infer_objects(copy=False)`. To opt-in to the future behavior, set `pd.set_option('future.no_silent_downcasting', True)`\n",
      "  dataset['Disease'] = dataset['Disease'].replace(token_to_val)\n"
     ]
    }
   ],
   "source": [
    "# Dictionary for value conversion\n",
    "token_to_val = {\n",
    "    \"DMD\": 1,\n",
    "    \"Cnt\": 0,\n",
    "}\n",
    "\n",
    "# Replace the string values in the column using the mapping in token_to_val\n",
    "dataset['Disease'] = dataset['Disease'].replace(token_to_val)\n",
    "\n",
    "# Rename columns for uniform representation\n",
    "dataset.rename(columns={dataset.columns[0]: 'ID'}, inplace=True)\n",
    "dataset.rename(columns={'dataset': 'Dataset'}, inplace=True)\n",
    "dataset.rename(columns={'serum.age': 'Participant.Age'}, inplace=True)\n",
    "\n",
    "# Verify the change\n",
    "print(dataset.columns)\n",
    "print(dataset)"
   ]
  },
  {
   "cell_type": "markdown",
   "metadata": {},
   "source": [
    "### Row Based Data Clean-up"
   ]
  },
  {
   "cell_type": "markdown",
   "metadata": {},
   "source": [
    "Handling incorrect values in key columns"
   ]
  },
  {
   "cell_type": "code",
   "execution_count": 118,
   "metadata": {},
   "outputs": [],
   "source": [
    "def remove_wrong_value_rows(df, column_name, wrong_val):\n",
    "    \"\"\"\n",
    "    Removes rows from the DataFrame where the specified column has the specified wrong value.\n",
    "\n",
    "    :param df: A pandas DataFrame from which rows will be removed.\n",
    "    :param column_name: The name of the column to check for the wrong value.\n",
    "    :param wrong_val: The value considered wrong in the specified column.\n",
    "    :return: A pandas DataFrame with rows containing the wrong value in the specified column removed.\n",
    "    \"\"\"\n",
    "    if isinstance(wrong_val, str):\n",
    "        wrong_val = list([wrong_val])\n",
    "    for val in wrong_val:\n",
    "        # Find indices of rows with the wrong value\n",
    "        incorrect = dataset[column_name] == val\n",
    "        indices_to_drop = incorrect[incorrect == True].index\n",
    "        # Drop these rows\n",
    "        df.drop(indices_to_drop, inplace=True)\n",
    "    return df"
   ]
  },
  {
   "cell_type": "code",
   "execution_count": 119,
   "metadata": {},
   "outputs": [
    {
     "name": "stdout",
     "output_type": "stream",
     "text": [
      "Before drop: (384, 1039)\n",
      "After drop: (372, 1039)\n"
     ]
    }
   ],
   "source": [
    "# Drop rows with invalid sample data\n",
    "print(\"Before drop:\", dataset.shape)\n",
    "dataset = remove_wrong_value_rows(dataset, 'Sample.ID', ['BLANK', 'POOL 1', 'POOL 2'])\n",
    "print(\"After drop:\", dataset.shape)"
   ]
  },
  {
   "cell_type": "markdown",
   "metadata": {},
   "source": [
    "Drop rows with NaN in the row's subset for key values"
   ]
  },
  {
   "cell_type": "code",
   "execution_count": 120,
   "metadata": {},
   "outputs": [
    {
     "name": "stdout",
     "output_type": "stream",
     "text": [
      "Before drop: (372, 1039)\n",
      "After drop: (357, 1039)\n"
     ]
    }
   ],
   "source": [
    "print(\"Before drop:\", dataset.shape)\n",
    "dataset.dropna(subset=['Sample.ID','Disease'], inplace=True)\n",
    "print(\"After drop:\", dataset.shape)"
   ]
  },
  {
   "cell_type": "markdown",
   "metadata": {},
   "source": [
    "Choose from and remove sample duplicates"
   ]
  },
  {
   "cell_type": "code",
   "execution_count": 121,
   "metadata": {},
   "outputs": [],
   "source": [
    "def get_duplicate_indecies(df, columns):\n",
    "    \"\"\"\n",
    "    Find indices of rows with the wrong value in the specified column.\n",
    "    \"\"\"\n",
    "    duplicate = df.duplicated(subset=columns, keep=False)\n",
    "    duplicate_indexes = duplicate[duplicate == True].index\n",
    "    return duplicate_indexes"
   ]
  },
  {
   "cell_type": "code",
   "execution_count": 122,
   "metadata": {},
   "outputs": [],
   "source": [
    "def calculate_row_value_percentage(df, start_column=0):\n",
    "    \"\"\"\n",
    "    Calculates the percentage of actual (non-NA) data points for each row in a pandas DataFrame.\n",
    "\n",
    "    :param df: A pandas DataFrame with potential NA values.\n",
    "    :return: A pandas Series with the percentage of non-NA values for each row.\n",
    "    \"\"\"\n",
    "    # Adjust for 0-based indexing\n",
    "    start_index = max(0, start_column - 1)\n",
    "\n",
    "    # Select only the columns within the specified interval\n",
    "    interval_df = df.iloc[:, start_index:]\n",
    "\n",
    "    # Calculate the number of non-NA values per row\n",
    "    value_counts_per_row = df.notna().sum(axis=1)\n",
    "\n",
    "    # Calculate the total number of columns (to handle potential NA values)\n",
    "    total_columns = interval_df.shape[1]\n",
    "\n",
    "    # Calculate the percentage of non-NA values for each row\n",
    "    value_percentage_per_row = (value_counts_per_row / total_columns) * 100\n",
    "\n",
    "    return value_percentage_per_row"
   ]
  },
  {
   "cell_type": "code",
   "execution_count": 123,
   "metadata": {},
   "outputs": [],
   "source": [
    "def remove_duplicate_rows(df, duplicate_indexes, row_val_percentages):\n",
    "\n",
    "    for i in duplicate_indexes:\n",
    "        # For each duplicate find the duplicate sample.ID value using the index\n",
    "        sample_ID = df.iloc[i]['Sample.ID']\n",
    "\n",
    "        # Find all row indicies of occurances of the value\n",
    "        duplicate_sample_ID_indicies = df.index[df['Sample.ID'] == sample_ID]\n",
    "\n",
    "        # Find which of these rows have the highest percentage in row_val_percentages\n",
    "        best_index = -1\n",
    "        best_val = -1\n",
    "        for duplicate_idx in duplicate_sample_ID_indicies:\n",
    "            val = row_val_percentages.loc[duplicate_idx]\n",
    "\n",
    "            if (val > best_val):\n",
    "                best_val = val\n",
    "                best_index = duplicate_idx\n",
    "\n",
    "        # Remove best from list of duplicates\n",
    "        duplicate_sample_ID_indicies = duplicate_sample_ID_indicies.drop(best_index)\n",
    "\n",
    "        # Drop the rest of the duplicates\n",
    "        df.drop(index=duplicate_sample_ID_indicies, inplace=True)"
   ]
  },
  {
   "cell_type": "code",
   "execution_count": 124,
   "metadata": {},
   "outputs": [
    {
     "name": "stdout",
     "output_type": "stream",
     "text": [
      "Before drop: (357, 1039)\n",
      "After drop: (342, 1039)\n"
     ]
    }
   ],
   "source": [
    "print(\"Before drop:\", dataset.shape)\n",
    "duplicate_indexes = get_duplicate_indecies(dataset, 'Sample.ID')\n",
    "row_val_percentages = calculate_row_value_percentage(dataset, start_column=15)\n",
    "remove_duplicate_rows(dataset, duplicate_indexes, row_val_percentages)\n",
    "print(\"After drop:\", dataset.shape)"
   ]
  },
  {
   "cell_type": "markdown",
   "metadata": {},
   "source": [
    "### Column Based Data Clean-up"
   ]
  },
  {
   "cell_type": "code",
   "execution_count": 125,
   "metadata": {},
   "outputs": [],
   "source": [
    "def calculate_column_value_percentage(df, start_column=1):\n",
    "    \"\"\"\n",
    "    Calculates the percentage of actual (non-NA) data points for each column in a pandas DataFrame\n",
    "    within a specified interval.\n",
    "\n",
    "    :param df: A pandas DataFrame with potential NA values.\n",
    "    :param start_column: The starting column index for the interval (1-based index).\n",
    "    :param end_column: The ending column index for the interval. If None, calculates up to the last column.\n",
    "    :return: A pandas Series with the percentage of non-NA values for each column in the interval.\n",
    "    \"\"\"\n",
    "    # Adjust for 0-based indexing\n",
    "    start_index = max(0, start_column - 1)\n",
    "\n",
    "    # Select only the columns within the specified interval\n",
    "    interval_df = df.iloc[:, start_index:]\n",
    "\n",
    "    # Calculate the total number of non-NA values for each column\n",
    "    value_counts = interval_df.count()\n",
    "\n",
    "    # Calculate the total number of rows (to handle potential NA rows)\n",
    "    total_rows = len(df)\n",
    "\n",
    "    # Calculate the percentage of non-NA values for each column\n",
    "    value_percentage = (value_counts / total_rows) * 100\n",
    "\n",
    "    return value_percentage"
   ]
  },
  {
   "cell_type": "code",
   "execution_count": 126,
   "metadata": {},
   "outputs": [
    {
     "name": "stdout",
     "output_type": "stream",
     "text": [
      "Columns to drop: Index(['HPA003948_SBA1_rep1', 'HPA057437_SBA3_rep1', 'HPA003948_SBA3_rep1',\n",
      "       'HPA034960_SBA3_rep1', 'HPA058513_SBA3_rep1', 'HPA074922_SBA3_rep1',\n",
      "       'HPA000837_SBA4_rep1', 'HPA001482_SBA4_rep1', 'HPA000293_SBA4_rep1',\n",
      "       'HPA031466_SBA4_rep1', 'HPA040972_SBA4_rep1', 'HPA010558_SBA4_rep1',\n",
      "       'HPA020610_SBA4_rep1', 'HPA030651_SBA4_rep1', 'HPA000226_SBA4_rep1',\n",
      "       'HPA041991_SBA4_rep1', 'HPA000564_SBA4_rep1', 'HPA035222_SBA4_rep1',\n",
      "       'HPA041943_SBA4_rep1', 'HPA001833_SBA4_rep1', 'HPA003927_SBA4_rep1',\n",
      "       'HPA011918_SBA4_rep1', 'HPA023314_SBA4_rep1', 'HPA031335_SBA4_rep1',\n",
      "       'HPA031717_SBA4_rep1'],\n",
      "      dtype='object')\n",
      "Before drop: (342, 1039)\n",
      "After drop: (342, 1014)\n"
     ]
    }
   ],
   "source": [
    "# Remove empty columns\n",
    "value_percentage = calculate_column_value_percentage(dataset, 15)\n",
    "columns_to_drop = value_percentage[value_percentage == 0].index\n",
    "print(\"Columns to drop:\", columns_to_drop)\n",
    "\n",
    "print(\"Before drop:\", dataset.shape)\n",
    "dataset.drop(labels=columns_to_drop, axis=\"columns\", inplace=True)\n",
    "print(\"After drop:\", dataset.shape)"
   ]
  },
  {
   "cell_type": "markdown",
   "metadata": {},
   "source": [
    "## LoA Prediction Estimation"
   ]
  },
  {
   "cell_type": "markdown",
   "metadata": {},
   "source": [
    "Function for transforming physical tests into an estimate for LoA which becomes our quantity to predict."
   ]
  },
  {
   "cell_type": "code",
   "execution_count": null,
   "metadata": {},
   "outputs": [],
   "source": [
    "def get_LoA(FT1, FT2, FT3, FT4, FT5):\n",
    "    \"\"\"Convert FTs into an estimate for LoA\n",
    "\n",
    "    Assumes N/A values are None ssss\n",
    "    \"\"\"\n",
    "    threshold_FT1 = 20\n",
    "    threshold_FT2 = 20\n",
    "    threshold_FT3 = 20\n",
    "    threshold_FT4 = 20\n",
    "    threshold_FT5 = 20\n",
    "    if FT5 && FT5 < threshold_FT5:\n",
    "        return true\n",
    "    if FT1 && FT1 < threshold_FT1:\n",
    "        return true\n",
    "    if FT2 && FT2 < threshold_FT2:\n",
    "        return true\n",
    "    if FT3 && FT3 < threshold_FT3:\n",
    "        return true\n",
    "    if FT4 && FT4 < threshold_FT4:\n",
    "        return true\n",
    "    else:\n",
    "        return false"
   ]
  },
  {
   "cell_type": "markdown",
   "metadata": {},
   "source": [
    "## Test for SVM"
   ]
  },
  {
   "cell_type": "markdown",
   "metadata": {},
   "source": [
    "## Old notes"
   ]
  },
  {
   "cell_type": "code",
   "execution_count": 166,
   "metadata": {
    "colab": {
     "base_uri": "https://localhost:8080/"
    },
    "executionInfo": {
     "elapsed": 15,
     "status": "ok",
     "timestamp": 1710344581051,
     "user": {
      "displayName": "jnxmaster",
      "userId": "16130325099071186302"
     },
     "user_tz": -60
    },
    "id": "QP-jazpobWuT",
    "outputId": "c600c891-f03a-40dd-dc42-9b5fe8828e60"
   },
   "outputs": [
    {
     "name": "stderr",
     "output_type": "stream",
     "text": [
      "<ipython-input-166-0d865e1640cf>:2: FutureWarning: In a future version, DataFrame.max(axis=None) will return a scalar max over the entire DataFrame. To retain the old behavior, use 'frame.max(axis=0)' or just 'frame.max()'\n",
      "  max = dataset.max(axis=None)\n",
      "<ipython-input-166-0d865e1640cf>:2: FutureWarning: The default value of numeric_only in DataFrame.max is deprecated. In a future version, it will default to False. In addition, specifying 'numeric_only=None' is deprecated. Select only valid columns or specify the value of numeric_only to silence this warning.\n",
      "  max = dataset.max(axis=None)\n",
      "<ipython-input-166-0d865e1640cf>:3: FutureWarning: In a future version, DataFrame.min(axis=None) will return a scalar min over the entire DataFrame. To retain the old behavior, use 'frame.min(axis=0)' or just 'frame.min()'\n",
      "  min = dataset.min(axis=None)\n",
      "<ipython-input-166-0d865e1640cf>:3: FutureWarning: The default value of numeric_only in DataFrame.min is deprecated. In a future version, it will default to False. In addition, specifying 'numeric_only=None' is deprecated. Select only valid columns or specify the value of numeric_only to silence this warning.\n",
      "  min = dataset.min(axis=None)\n",
      "<ipython-input-166-0d865e1640cf>:4: FutureWarning: In a future version, DataFrame.median(axis=None) will return a scalar median over the entire DataFrame. To retain the old behavior, use 'frame.median(axis=0)' or just 'frame.median()'\n",
      "  median = dataset.median(axis=None)\n",
      "<ipython-input-166-0d865e1640cf>:4: FutureWarning: The default value of numeric_only in DataFrame.median is deprecated. In a future version, it will default to False. In addition, specifying 'numeric_only=None' is deprecated. Select only valid columns or specify the value of numeric_only to silence this warning.\n",
      "  median = dataset.median(axis=None)\n"
     ]
    }
   ],
   "source": [
    "# Get summary statistics for whole data set\n",
    "max = dataset.max(axis=None)\n",
    "min = dataset.min(axis=None)\n",
    "median = dataset.median(axis=None)"
   ]
  },
  {
   "cell_type": "code",
   "execution_count": 167,
   "metadata": {
    "colab": {
     "base_uri": "https://localhost:8080/"
    },
    "executionInfo": {
     "elapsed": 14,
     "status": "ok",
     "timestamp": 1710344581051,
     "user": {
      "displayName": "jnxmaster",
      "userId": "16130325099071186302"
     },
     "user_tz": -60
    },
    "id": "3NOPw1kbfr3d",
    "outputId": "01955389-03ac-4ae4-e8b3-98924b0dce11"
   },
   "outputs": [
    {
     "name": "stdout",
     "output_type": "stream",
     "text": [
      "ID                           384\n",
      "Disease                      1.0\n",
      "serum.age                   16.3\n",
      "FT1                     3.215434\n",
      "FT2                     0.628931\n",
      "                         ...    \n",
      "HPA040052_SBA4_rep1    12.907514\n",
      "HPA041542_SBA4_rep1    12.814063\n",
      "HPA044582_SBA4_rep1    13.232916\n",
      "HPA045702_SBA4_rep1    12.836329\n",
      "HPA048982_SBA4_rep1    12.919319\n",
      "Length: 1035, dtype: object\n"
     ]
    }
   ],
   "source": [
    "print(max)"
   ]
  },
  {
   "cell_type": "code",
   "execution_count": 168,
   "metadata": {
    "colab": {
     "base_uri": "https://localhost:8080/"
    },
    "executionInfo": {
     "elapsed": 13,
     "status": "ok",
     "timestamp": 1710344581051,
     "user": {
      "displayName": "jnxmaster",
      "userId": "16130325099071186302"
     },
     "user_tz": -60
    },
    "id": "EeXcB6GFE30h",
    "outputId": "efd87f3f-6b66-45dc-e5e7-3269582a7c25"
   },
   "outputs": [
    {
     "name": "stdout",
     "output_type": "stream",
     "text": [
      "ID                             1\n",
      "Disease                      0.0\n",
      "serum.age               4.016427\n",
      "FT1                          0.0\n",
      "FT2                          0.0\n",
      "                         ...    \n",
      "HPA040052_SBA4_rep1    11.823214\n",
      "HPA041542_SBA4_rep1    12.013636\n",
      "HPA044582_SBA4_rep1    12.580456\n",
      "HPA045702_SBA4_rep1    12.267231\n",
      "HPA048982_SBA4_rep1     11.92033\n",
      "Length: 1035, dtype: object\n"
     ]
    }
   ],
   "source": [
    "print(min)"
   ]
  },
  {
   "cell_type": "code",
   "execution_count": 169,
   "metadata": {
    "colab": {
     "base_uri": "https://localhost:8080/"
    },
    "executionInfo": {
     "elapsed": 12,
     "status": "ok",
     "timestamp": 1710344581051,
     "user": {
      "displayName": "jnxmaster",
      "userId": "16130325099071186302"
     },
     "user_tz": -60
    },
    "id": "LiItUIv2E397",
    "outputId": "e5382aab-b6b3-4441-b103-b58460919818"
   },
   "outputs": [
    {
     "name": "stdout",
     "output_type": "stream",
     "text": [
      "ID                     192.500000\n",
      "Disease                  1.000000\n",
      "serum.age                7.585216\n",
      "FT1                      0.458295\n",
      "FT2                      0.244801\n",
      "                          ...    \n",
      "HPA040052_SBA4_rep1     12.543317\n",
      "HPA041542_SBA4_rep1     12.559998\n",
      "HPA044582_SBA4_rep1     12.803850\n",
      "HPA045702_SBA4_rep1     12.530788\n",
      "HPA048982_SBA4_rep1     12.640344\n",
      "Length: 1034, dtype: float64\n"
     ]
    }
   ],
   "source": [
    "print(median)"
   ]
  },
  {
   "cell_type": "code",
   "execution_count": 169,
   "metadata": {
    "executionInfo": {
     "elapsed": 11,
     "status": "ok",
     "timestamp": 1710344581051,
     "user": {
      "displayName": "jnxmaster",
      "userId": "16130325099071186302"
     },
     "user_tz": -60
    },
    "id": "12FnOCJjFAQ1"
   },
   "outputs": [],
   "source": []
  },
  {
   "cell_type": "code",
   "execution_count": 170,
   "metadata": {
    "colab": {
     "base_uri": "https://localhost:8080/"
    },
    "executionInfo": {
     "elapsed": 11,
     "status": "ok",
     "timestamp": 1710344581051,
     "user": {
      "displayName": "jnxmaster",
      "userId": "16130325099071186302"
     },
     "user_tz": -60
    },
    "id": "ipCmokfYJ2jb",
    "outputId": "a5dc0b64-f81a-4726-e46d-70f75a598129"
   },
   "outputs": [
    {
     "name": "stdout",
     "output_type": "stream",
     "text": [
      "Global maximum intensity: 18.665777617921\n",
      "Global median intensity: 12.325486692708193\n",
      "Global minimum intensity: 8.72125121808696\n"
     ]
    }
   ],
   "source": [
    "# Get protein intensitiy values only by removing first 15 columns\n",
    "intensities = dataset.iloc[:, 14:]\n",
    "# print(intensities)\n",
    "\n",
    "# Calculate min, max, and median for intensities\n",
    "min_values = intensities.min()\n",
    "max_values = intensities.max()\n",
    "median_values = intensities.median()\n",
    "\n",
    "# Now, calculate the average of these statistics across the columns\n",
    "global_min = min_values.min()\n",
    "global_max = max_values.max()\n",
    "global_median = median_values.mean()\n",
    "\n",
    "print(\"Global maximum intensity:\", global_max)\n",
    "print(\"Global median intensity:\", global_median)\n",
    "print(\"Global minimum intensity:\", global_min)\n"
   ]
  },
  {
   "cell_type": "code",
   "execution_count": 171,
   "metadata": {
    "colab": {
     "base_uri": "https://localhost:8080/"
    },
    "executionInfo": {
     "elapsed": 10,
     "status": "ok",
     "timestamp": 1710344581052,
     "user": {
      "displayName": "jnxmaster",
      "userId": "16130325099071186302"
     },
     "user_tz": -60
    },
    "id": "oCNK1_JeKt06",
    "outputId": "0284d031-559c-4e50-f024-ca01909775db"
   },
   "outputs": [
    {
     "name": "stdout",
     "output_type": "stream",
     "text": [
      "   ID Sample.ID Participant.ID dataset  Disease  serum.age TREAT  FT1  FT2  \\\n",
      "0   1       S87             P3    DNHS      1.0   11.60849   NaN  0.0  0.0   \n",
      "1   2       S10             P3    DNHS      1.0   12.62423   NaN  NaN  NaN   \n",
      "2   3       S19             P3    DNHS      1.0   13.62081   NaN  NaN  NaN   \n",
      "3   4      S137             P4    DNHS      1.0   11.42505   NaN  NaN  NaN   \n",
      "4   5      S182             P4    DNHS      1.0   13.24572   NaN  NaN  NaN   \n",
      "\n",
      "   FT3  ...  HPA049320_SBA4_rep1  HPA051620_SBA4_rep1  HPA054862_SBA4_rep1  \\\n",
      "0  NaN  ...            12.476497            12.666707            12.331400   \n",
      "1  NaN  ...            12.494297            12.564169            12.354718   \n",
      "2  NaN  ...            12.554581            12.707240            12.460004   \n",
      "3  NaN  ...            12.455811            12.505603            12.416459   \n",
      "4  NaN  ...            12.523768            12.598164            12.369592   \n",
      "\n",
      "  HPA003901_SBA4_rep1  HPA035863_SBA4_rep1  HPA040052_SBA4_rep1  \\\n",
      "0           12.410101            12.504796            12.580695   \n",
      "1           12.581718            12.441237            12.583769   \n",
      "2           12.610387            12.504661            12.556319   \n",
      "3           12.510771            12.472934            12.556096   \n",
      "4           12.605211            12.523768            12.503911   \n",
      "\n",
      "   HPA041542_SBA4_rep1  HPA044582_SBA4_rep1  HPA045702_SBA4_rep1  \\\n",
      "0            12.574592            12.797013            12.492433   \n",
      "1            12.579893            12.660894            12.450384   \n",
      "2            12.679701            12.824755            12.517335   \n",
      "3            12.473760            12.744020            12.511776   \n",
      "4            12.557672            12.926602            12.518327   \n",
      "\n",
      "   HPA048982_SBA4_rep1  \n",
      "0            12.622226  \n",
      "1            12.704464  \n",
      "2            12.836970  \n",
      "3            12.666065  \n",
      "4            12.668579  \n",
      "\n",
      "[5 rows x 1039 columns]\n"
     ]
    }
   ],
   "source": [
    "# Normalize protein intensities in dataset\n",
    "\"\"\"\n",
    " OBS: we do not want to do this initially\n",
    "      also it might make the  model less useful\n",
    "      since it makes intensities from other\n",
    "      studies or clinical samples harder to\n",
    "      compare.\n",
    "\n",
    "      Also, we are normalizing the intensities globally instead of per-column\n",
    "      (per-protein). Would doing it per protein be better?\n",
    "\n",
    "      Disabled for now.\n",
    "\"\"\"\n",
    "# dataset.iloc[:, 14:] = (dataset.iloc[:, 14:] - global_min) / (global_max - global_min)\n",
    "\n",
    "print(dataset.head())"
   ]
  },
  {
   "cell_type": "code",
   "execution_count": 172,
   "metadata": {
    "colab": {
     "base_uri": "https://localhost:8080/"
    },
    "executionInfo": {
     "elapsed": 9,
     "status": "ok",
     "timestamp": 1710344581052,
     "user": {
      "displayName": "jnxmaster",
      "userId": "16130325099071186302"
     },
     "user_tz": -60
    },
    "id": "lXDPhBhkMelA",
    "outputId": "bfebf9ce-4413-4217-edef-a724b13670f9"
   },
   "outputs": [
    {
     "name": "stdout",
     "output_type": "stream",
     "text": [
      "Index(['FT1', 'FT2', 'FT3', 'FT4', 'FT5'], dtype='object')\n"
     ]
    }
   ],
   "source": [
    "# Drop physical tests (might include them in the future)\n",
    "columns_to_drop = dataset.columns[7:12]\n",
    "dataset = dataset.drop(columns=columns_to_drop)\n",
    "\n",
    "print(columns_to_drop)"
   ]
  },
  {
   "cell_type": "code",
   "execution_count": 173,
   "metadata": {
    "colab": {
     "base_uri": "https://localhost:8080/"
    },
    "executionInfo": {
     "elapsed": 8,
     "status": "ok",
     "timestamp": 1710344581052,
     "user": {
      "displayName": "jnxmaster",
      "userId": "16130325099071186302"
     },
     "user_tz": -60
    },
    "id": "omE-rJqLPIgB",
    "outputId": "3459a43a-f3a1-4329-ebb2-f1f910bd9cfa"
   },
   "outputs": [
    {
     "name": "stdout",
     "output_type": "stream",
     "text": [
      "   ID Sample.ID Participant.ID dataset  Disease  serum.age TREAT  Plate  \\\n",
      "0   1       S87             P3    DNHS      1.0   11.60849   NaN      1   \n",
      "1   2       S10             P3    DNHS      1.0   12.62423   NaN      1   \n",
      "2   3       S19             P3    DNHS      1.0   13.62081   NaN      1   \n",
      "3   4      S137             P4    DNHS      1.0   11.42505   NaN      2   \n",
      "4   5      S182             P4    DNHS      1.0   13.24572   NaN      2   \n",
      "\n",
      "  Location  HPA029198_SBA1_rep1  ...  HPA049320_SBA4_rep1  \\\n",
      "0      D12            12.264364  ...            12.476497   \n",
      "1       C2            12.264976  ...            12.494297   \n",
      "2       D3            12.278605  ...            12.554581   \n",
      "3       H6            12.351390  ...            12.455811   \n",
      "4      H12            12.301256  ...            12.523768   \n",
      "\n",
      "   HPA051620_SBA4_rep1  HPA054862_SBA4_rep1  HPA003901_SBA4_rep1  \\\n",
      "0            12.666707            12.331400            12.410101   \n",
      "1            12.564169            12.354718            12.581718   \n",
      "2            12.707240            12.460004            12.610387   \n",
      "3            12.505603            12.416459            12.510771   \n",
      "4            12.598164            12.369592            12.605211   \n",
      "\n",
      "   HPA035863_SBA4_rep1  HPA040052_SBA4_rep1  HPA041542_SBA4_rep1  \\\n",
      "0            12.504796            12.580695            12.574592   \n",
      "1            12.441237            12.583769            12.579893   \n",
      "2            12.504661            12.556319            12.679701   \n",
      "3            12.472934            12.556096            12.473760   \n",
      "4            12.523768            12.503911            12.557672   \n",
      "\n",
      "   HPA044582_SBA4_rep1  HPA045702_SBA4_rep1  HPA048982_SBA4_rep1  \n",
      "0            12.797013            12.492433            12.622226  \n",
      "1            12.660894            12.450384            12.704464  \n",
      "2            12.824755            12.517335            12.836970  \n",
      "3            12.744020            12.511776            12.666065  \n",
      "4            12.926602            12.518327            12.668579  \n",
      "\n",
      "[5 rows x 1034 columns]\n"
     ]
    }
   ],
   "source": [
    "# Print final dataset\n",
    "print(dataset.head())"
   ]
  },
  {
   "cell_type": "code",
   "execution_count": 174,
   "metadata": {
    "colab": {
     "base_uri": "https://localhost:8080/"
    },
    "executionInfo": {
     "elapsed": 7,
     "status": "ok",
     "timestamp": 1710344581052,
     "user": {
      "displayName": "jnxmaster",
      "userId": "16130325099071186302"
     },
     "user_tz": -60
    },
    "id": "Bof-xPCuyVkW",
    "outputId": "df017fb6-8373-44b6-c237-704bd1430bae"
   },
   "outputs": [
    {
     "name": "stdout",
     "output_type": "stream",
     "text": [
      "   serum.age  HPA029198_SBA1_rep1  HPA047839_SBA1_rep1  HPA029005_SBA1_rep1  \\\n",
      "0   11.60849            12.264364            12.159417            12.348176   \n",
      "1   12.62423            12.264976            12.226864            12.430424   \n",
      "2   13.62081            12.278605            12.124720            12.377718   \n",
      "3   11.42505            12.351390            12.227065            12.320271   \n",
      "4   13.24572            12.301256            12.260200            12.403662   \n",
      "\n",
      "   HPA049793_SBA1_rep1  HPA014245_SBA1_rep1  HPA053793_SBA1_rep1  \\\n",
      "0            12.906300            12.211722            12.322140   \n",
      "1            13.152528            12.245174            12.340043   \n",
      "2            13.055278            12.206496            12.354011   \n",
      "3            12.655442            12.267009            12.340713   \n",
      "4            13.016106            12.140189            12.333273   \n",
      "\n",
      "   HPA059859_SBA1_rep1  HPA038097_SBA1_rep1  HPA061383_SBA1_rep1  ...  \\\n",
      "0            12.605700            12.446275            12.310066  ...   \n",
      "1            12.520733            12.510600            12.261979  ...   \n",
      "2            12.558732            12.542303            12.278218  ...   \n",
      "3            12.408411            12.428379            12.286022  ...   \n",
      "4            12.518398            12.617718            12.249096  ...   \n",
      "\n",
      "   HPA049320_SBA4_rep1  HPA051620_SBA4_rep1  HPA054862_SBA4_rep1  \\\n",
      "0            12.476497            12.666707            12.331400   \n",
      "1            12.494297            12.564169            12.354718   \n",
      "2            12.554581            12.707240            12.460004   \n",
      "3            12.455811            12.505603            12.416459   \n",
      "4            12.523768            12.598164            12.369592   \n",
      "\n",
      "   HPA003901_SBA4_rep1  HPA035863_SBA4_rep1  HPA040052_SBA4_rep1  \\\n",
      "0            12.410101            12.504796            12.580695   \n",
      "1            12.581718            12.441237            12.583769   \n",
      "2            12.610387            12.504661            12.556319   \n",
      "3            12.510771            12.472934            12.556096   \n",
      "4            12.605211            12.523768            12.503911   \n",
      "\n",
      "   HPA041542_SBA4_rep1  HPA044582_SBA4_rep1  HPA045702_SBA4_rep1  \\\n",
      "0            12.574592            12.797013            12.492433   \n",
      "1            12.579893            12.660894            12.450384   \n",
      "2            12.679701            12.824755            12.517335   \n",
      "3            12.473760            12.744020            12.511776   \n",
      "4            12.557672            12.926602            12.518327   \n",
      "\n",
      "   HPA048982_SBA4_rep1  \n",
      "0            12.622226  \n",
      "1            12.704464  \n",
      "2            12.836970  \n",
      "3            12.666065  \n",
      "4            12.668579  \n",
      "\n",
      "[5 rows x 1026 columns]\n"
     ]
    }
   ],
   "source": [
    "# Create list of training vectors consisting of age and protein intensities\n",
    "\n",
    "columns = dataset.columns\n",
    "# print(columns)\n",
    "\n",
    "# Select specific columns (in this case only 5) and then from 9 through the last column\n",
    "dataset_ANN_vectors = dataset.iloc[:, [5] + list(range(9, dataset.shape[1]))]\n",
    "\n",
    "print(dataset_ANN_vectors.head())"
   ]
  },
  {
   "cell_type": "code",
   "execution_count": 175,
   "metadata": {
    "executionInfo": {
     "elapsed": 6,
     "status": "ok",
     "timestamp": 1710344581052,
     "user": {
      "displayName": "jnxmaster",
      "userId": "16130325099071186302"
     },
     "user_tz": -60
    },
    "id": "WLS_cxMLgJqO"
   },
   "outputs": [],
   "source": [
    "# np.loadtxt(dataset, delimiter=\",\", skiprows=0)\n",
    "\n",
    "# r = np.genfromtxt(dataset, delimiter=',', names=True, case_sensitive=True)\n",
    "# print(repr(r))"
   ]
  }
 ],
 "metadata": {
  "colab": {
   "provenance": []
  },
  "kernelspec": {
   "display_name": "Python 3",
   "name": "python3"
  },
  "language_info": {
   "codemirror_mode": {
    "name": "ipython",
    "version": 3
   },
   "file_extension": ".py",
   "mimetype": "text/x-python",
   "name": "python",
   "nbconvert_exporter": "python",
   "pygments_lexer": "ipython3",
   "version": "3.12.0"
  }
 },
 "nbformat": 4,
 "nbformat_minor": 0
}
