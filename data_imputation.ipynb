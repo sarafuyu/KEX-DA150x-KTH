{
 "cells": [
  {
   "cell_type": "code",
   "execution_count": null,
   "metadata": {},
   "outputs": [],
   "source": []
  },
  {
   "cell_type": "markdown",
   "metadata": {},
   "source": [
    "# Data imputation"
   ]
  },
  {
   "cell_type": "markdown",
   "metadata": {},
   "source": [
    "Handle Missing Values:\n",
    "Before anything can be done, ensure all NaN values are handled appropriately, either by imputation or by removing rows/columns with NaN values."
   ]
  },
  {
   "cell_type": "code",
   "execution_count": null,
   "metadata": {},
   "outputs": [],
   "source": [
    "from sklearn.impute import SimpleImputer\n",
    "\n",
    "# Isolate relevant data\n",
    "d = dataset.iloc[:, 10:] \n",
    "\n",
    "# Option 1: Impute missing values (e.g., with the mean of each column)\n",
    "imputer = SimpleImputer(strategy=\"mean\")\n",
    "df_imputed = pd.DataFrame(imputer.fit_transform(d), columns=d.columns)\n",
    "\n",
    "# Option 2: Drop rows with any NaN values (use with caution)\n",
    "# df_dropped = dataset.dropna()"
   ]
  },
  {
   "cell_type": "code",
   "execution_count": null,
   "metadata": {},
   "outputs": [],
   "source": [
    "from sklearn.model_selection import train_test_split\n",
    "\n",
    "y = df_imputed['FT5'] # Vector for the target variable\n",
    "X = df_imputed.iloc[:, 1:] # Matrix with variable input\n",
    "\n",
    "# Splitting the dataset into training and testing sets\n",
    "X_train, X_test, y_train, y_test = train_test_split(X, y, test_size=0.2, random_state=42)"
   ]
  }
 ],
 "metadata": {
  "language_info": {
   "name": "python"
  }
 },
 "nbformat": 4,
 "nbformat_minor": 2
}
