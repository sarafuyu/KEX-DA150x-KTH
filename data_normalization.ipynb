{
 "cells": [
  {
   "cell_type": "markdown",
   "metadata": {},
   "source": [
    "# Data Normalization"
   ]
  },
  {
   "cell_type": "code",
   "execution_count": null,
   "metadata": {},
   "outputs": [],
   "source": [
    "import pandas as pd"
   ]
  },
  {
   "cell_type": "code",
   "execution_count": null,
   "metadata": {},
   "outputs": [],
   "source": [
    "dataset = pd.read_csv('cleaned_data.csv')\n",
    "dataset.head()"
   ]
  },
  {
   "cell_type": "code",
   "execution_count": null,
   "metadata": {},
   "outputs": [],
   "source": [
    "# Get summary statistics for whole data set\n",
    "columns_to_normalize = list(range(4, dataset.shape[1]))\n",
    "max_values = dataset.iloc[:,columns_to_normalize].max()\n",
    "min_values = dataset.iloc[:,columns_to_normalize].min()\n",
    "med_values = dataset.iloc[:,columns_to_normalize].median()"
   ]
  },
  {
   "cell_type": "code",
   "execution_count": null,
   "metadata": {},
   "outputs": [],
   "source": [
    "print(max_values)"
   ]
  },
  {
   "cell_type": "code",
   "execution_count": null,
   "metadata": {},
   "outputs": [],
   "source": [
    "print(min_values)"
   ]
  },
  {
   "cell_type": "code",
   "execution_count": null,
   "metadata": {},
   "outputs": [],
   "source": [
    "print(med_values)"
   ]
  },
  {
   "cell_type": "code",
   "execution_count": null,
   "metadata": {},
   "outputs": [],
   "source": [
    "# Normalize dataset\n",
    "def normalize(df, columns, min_vals, max_vals):\n",
    "    \"\"\"\n",
    "    Normalize given columns in the given DataFrame using the provided dequences of minimum and maximum values.\n",
    "\n",
    "    X_normalized = (X - X_min) / (X_max - X_min)\n",
    "\n",
    "    :param df: A pandas DataFrame to normalize.\n",
    "    :param columns: A list of column indices to normalize.\n",
    "    :param min_vals: A pandas Series of minimum values for each column.\n",
    "    :param max_vals: A pandas Series of maximum values for each column.\n",
    "    :return: A normalized pandas DataFrame.\n",
    "    \"\"\"\n",
    "    # Create a copy of the DataFrame\n",
    "    df_normalized = df.copy()\n",
    "\n",
    "    # Normalize the specified columns\n",
    "    for col in columns:\n",
    "        # if col == 296:\n",
    "        #     break\n",
    "        col_range = max_vals[col-4] - min_vals[col-4]\n",
    "        # Normalize the current column using scaling formula\n",
    "        df_normalized.iloc[:, col] = (df.iloc[:, col] - min_vals[col-4]) / col_range\n",
    "        # print(df_normalized.iloc[:, col])\n",
    "\n",
    "    return df_normalized"
   ]
  },
  {
   "cell_type": "code",
   "execution_count": null,
   "metadata": {},
   "outputs": [],
   "source": [
    "dataset_normalized = normalize(dataset, columns_to_normalize, min_values, max_values)"
   ]
  },
  {
   "cell_type": "code",
   "execution_count": null,
   "metadata": {},
   "outputs": [],
   "source": [
    "# Export cleaned data to a new CSV file\n",
    "dataset_normalized.to_csv('normalized_data.csv', index=False)\n",
    "dataset_normalized"
   ]
  }
 ],
 "metadata": {
  "kernelspec": {
   "display_name": "venv",
   "language": "python",
   "name": "python3"
  },
  "language_info": {
   "codemirror_mode": {
    "name": "ipython",
    "version": 3
   },
   "file_extension": ".py",
   "mimetype": "text/x-python",
   "name": "python",
   "nbconvert_exporter": "python",
   "pygments_lexer": "ipython3",
   "version": "3.12.2"
  }
 },
 "nbformat": 4,
 "nbformat_minor": 2
}
