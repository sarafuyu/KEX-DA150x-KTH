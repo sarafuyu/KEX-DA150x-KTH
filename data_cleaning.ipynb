{
 "cells": [
  {
   "cell_type": "raw",
   "source": [
    "# Data Cleaning\n",
    "\n",
    "Data visualization, cleaning, division, and normalization.\n",
    "\n",
    "* Execute small adjustments/renaming of columns\n",
    "* Disease parameter: DMD/Cnt -> 1/0\n",
    "* Remove rows if:\n",
    "  * Sample.ID's value is \"BLANK\", \"POOL 1\" or \"POOL 2\"\n",
    "  * Disease or Sample.ID value for row is missing  \n",
    "* If there are multiple rows with same Sample.ID, drop the duplicate rows with fewer value entires\n",
    "  * Might need to evalueate manually or reevaluate the heuristiics (which proteins to prioritize over others)\n",
    "* Remove columns of antibody consentrations if there are no data entries\n",
    "\n",
    "* TODO: debugg, continue with later points\n",
    "* Potentionally normalize intensities: [-1, 1] or [0, 1]\n",
    "* Create new column for LoA based on FT1-5 \n",
    "\n",
    "* Flytta om ordningen på kolumnerna så att varje rad blir en vektor på formen <<METADATA>,<Y>,<X>> där <X> är [LoA], <Y> är intensiteterna (och eventuellt ålder senare) och <METADATA> är allt annat.\n",
    "\n",
    "* Run a SVM with our input data"
   ],
   "metadata": {
    "collapsed": false
   }
  },
  {
   "cell_type": "markdown",
   "metadata": {},
   "source": [
    "## Enviroment to read and process DMD data"
   ]
  },
  {
   "cell_type": "markdown",
   "metadata": {
    "id": "yeiNQxvnXphM"
   },
   "source": [
    "Imports used for data processing and cleaning"
   ]
  },
  {
   "cell_type": "code",
   "execution_count": 35,
   "metadata": {
    "ExecuteTime": {
     "end_time": "2024-04-24T14:05:42.310980Z",
     "start_time": "2024-04-24T14:05:42.307978Z"
    }
   },
   "outputs": [],
   "source": "import pandas as pd"
  },
  {
   "cell_type": "markdown",
   "metadata": {
    "id": "HhloDaQfbCZK"
   },
   "source": [
    "Load CSV file through pandas dataframe"
   ]
  },
  {
   "cell_type": "code",
   "outputs": [
    {
     "data": {
      "text/plain": "   ID Sample.ID Participant.ID dataset Disease  patregag TREAT  FT1  FT2  FT3  \\\n0   1       S87             P3    DNHS     DMD     11.61   NaN  0.0  0.0  NaN   \n1   2       S10             P3    DNHS     DMD     12.62   NaN  NaN  NaN  NaN   \n2   3       S19             P3    DNHS     DMD     13.62   NaN  NaN  NaN  NaN   \n3   4      S137             P4    DNHS     DMD     11.43   NaN  NaN  NaN  NaN   \n4   5      S182             P4    DNHS     DMD     13.25   NaN  NaN  NaN  NaN   \n\n   ...  HPA049320_SBA4_rep1  HPA051620_SBA4_rep1  HPA054862_SBA4_rep1  \\\n0  ...            12.476497            12.666707            12.331400   \n1  ...            12.494297            12.564169            12.354718   \n2  ...            12.554581            12.707240            12.460004   \n3  ...            12.455811            12.505603            12.416459   \n4  ...            12.523768            12.598164            12.369592   \n\n  HPA003901_SBA4_rep1  HPA035863_SBA4_rep1  HPA040052_SBA4_rep1  \\\n0           12.410101            12.504796            12.580695   \n1           12.581718            12.441237            12.583769   \n2           12.610387            12.504661            12.556319   \n3           12.510771            12.472934            12.556096   \n4           12.605211            12.523768            12.503911   \n\n   HPA041542_SBA4_rep1  HPA044582_SBA4_rep1  HPA045702_SBA4_rep1  \\\n0            12.574592            12.797013            12.492433   \n1            12.579893            12.660894            12.450384   \n2            12.679701            12.824755            12.517335   \n3            12.473760            12.744020            12.511776   \n4            12.557672            12.926602            12.518327   \n\n   HPA048982_SBA4_rep1  \n0            12.622226  \n1            12.704464  \n2            12.836970  \n3            12.666065  \n4            12.668579  \n\n[5 rows x 1039 columns]",
      "text/html": "<div>\n<style scoped>\n    .dataframe tbody tr th:only-of-type {\n        vertical-align: middle;\n    }\n\n    .dataframe tbody tr th {\n        vertical-align: top;\n    }\n\n    .dataframe thead th {\n        text-align: right;\n    }\n</style>\n<table border=\"1\" class=\"dataframe\">\n  <thead>\n    <tr style=\"text-align: right;\">\n      <th></th>\n      <th>ID</th>\n      <th>Sample.ID</th>\n      <th>Participant.ID</th>\n      <th>dataset</th>\n      <th>Disease</th>\n      <th>patregag</th>\n      <th>TREAT</th>\n      <th>FT1</th>\n      <th>FT2</th>\n      <th>FT3</th>\n      <th>...</th>\n      <th>HPA049320_SBA4_rep1</th>\n      <th>HPA051620_SBA4_rep1</th>\n      <th>HPA054862_SBA4_rep1</th>\n      <th>HPA003901_SBA4_rep1</th>\n      <th>HPA035863_SBA4_rep1</th>\n      <th>HPA040052_SBA4_rep1</th>\n      <th>HPA041542_SBA4_rep1</th>\n      <th>HPA044582_SBA4_rep1</th>\n      <th>HPA045702_SBA4_rep1</th>\n      <th>HPA048982_SBA4_rep1</th>\n    </tr>\n  </thead>\n  <tbody>\n    <tr>\n      <th>0</th>\n      <td>1</td>\n      <td>S87</td>\n      <td>P3</td>\n      <td>DNHS</td>\n      <td>DMD</td>\n      <td>11.61</td>\n      <td>NaN</td>\n      <td>0.0</td>\n      <td>0.0</td>\n      <td>NaN</td>\n      <td>...</td>\n      <td>12.476497</td>\n      <td>12.666707</td>\n      <td>12.331400</td>\n      <td>12.410101</td>\n      <td>12.504796</td>\n      <td>12.580695</td>\n      <td>12.574592</td>\n      <td>12.797013</td>\n      <td>12.492433</td>\n      <td>12.622226</td>\n    </tr>\n    <tr>\n      <th>1</th>\n      <td>2</td>\n      <td>S10</td>\n      <td>P3</td>\n      <td>DNHS</td>\n      <td>DMD</td>\n      <td>12.62</td>\n      <td>NaN</td>\n      <td>NaN</td>\n      <td>NaN</td>\n      <td>NaN</td>\n      <td>...</td>\n      <td>12.494297</td>\n      <td>12.564169</td>\n      <td>12.354718</td>\n      <td>12.581718</td>\n      <td>12.441237</td>\n      <td>12.583769</td>\n      <td>12.579893</td>\n      <td>12.660894</td>\n      <td>12.450384</td>\n      <td>12.704464</td>\n    </tr>\n    <tr>\n      <th>2</th>\n      <td>3</td>\n      <td>S19</td>\n      <td>P3</td>\n      <td>DNHS</td>\n      <td>DMD</td>\n      <td>13.62</td>\n      <td>NaN</td>\n      <td>NaN</td>\n      <td>NaN</td>\n      <td>NaN</td>\n      <td>...</td>\n      <td>12.554581</td>\n      <td>12.707240</td>\n      <td>12.460004</td>\n      <td>12.610387</td>\n      <td>12.504661</td>\n      <td>12.556319</td>\n      <td>12.679701</td>\n      <td>12.824755</td>\n      <td>12.517335</td>\n      <td>12.836970</td>\n    </tr>\n    <tr>\n      <th>3</th>\n      <td>4</td>\n      <td>S137</td>\n      <td>P4</td>\n      <td>DNHS</td>\n      <td>DMD</td>\n      <td>11.43</td>\n      <td>NaN</td>\n      <td>NaN</td>\n      <td>NaN</td>\n      <td>NaN</td>\n      <td>...</td>\n      <td>12.455811</td>\n      <td>12.505603</td>\n      <td>12.416459</td>\n      <td>12.510771</td>\n      <td>12.472934</td>\n      <td>12.556096</td>\n      <td>12.473760</td>\n      <td>12.744020</td>\n      <td>12.511776</td>\n      <td>12.666065</td>\n    </tr>\n    <tr>\n      <th>4</th>\n      <td>5</td>\n      <td>S182</td>\n      <td>P4</td>\n      <td>DNHS</td>\n      <td>DMD</td>\n      <td>13.25</td>\n      <td>NaN</td>\n      <td>NaN</td>\n      <td>NaN</td>\n      <td>NaN</td>\n      <td>...</td>\n      <td>12.523768</td>\n      <td>12.598164</td>\n      <td>12.369592</td>\n      <td>12.605211</td>\n      <td>12.523768</td>\n      <td>12.503911</td>\n      <td>12.557672</td>\n      <td>12.926602</td>\n      <td>12.518327</td>\n      <td>12.668579</td>\n    </tr>\n  </tbody>\n</table>\n<p>5 rows × 1039 columns</p>\n</div>"
     },
     "execution_count": 36,
     "metadata": {},
     "output_type": "execute_result"
    }
   ],
   "source": [
    "dataset = pd.read_csv('normalised_data_all_w_clinical_kex_20240321.csv')\n",
    "dataset.head() # Pre-view first five rows"
   ],
   "metadata": {
    "collapsed": false,
    "ExecuteTime": {
     "end_time": "2024-04-24T14:05:42.477965Z",
     "start_time": "2024-04-24T14:05:42.311964Z"
    }
   },
   "execution_count": 36
  },
  {
   "cell_type": "raw",
   "source": [
    "## First Data Visualization & Processing"
   ],
   "metadata": {
    "collapsed": false
   }
  },
  {
   "cell_type": "code",
   "execution_count": 37,
   "metadata": {
    "ExecuteTime": {
     "end_time": "2024-04-24T14:05:42.504467Z",
     "start_time": "2024-04-24T14:05:42.478964Z"
    }
   },
   "outputs": [
    {
     "name": "stdout",
     "output_type": "stream",
     "text": [
      "Index(['ID', 'Sample_ID', 'Participant_ID', 'Dataset', 'Disease', 'Age',\n",
      "       'TREAT', 'FT1', 'FT2', 'FT3',\n",
      "       ...\n",
      "       'HPA049320_SBA4_rep1', 'HPA051620_SBA4_rep1', 'HPA054862_SBA4_rep1',\n",
      "       'HPA003901_SBA4_rep1', 'HPA035863_SBA4_rep1', 'HPA040052_SBA4_rep1',\n",
      "       'HPA041542_SBA4_rep1', 'HPA044582_SBA4_rep1', 'HPA045702_SBA4_rep1',\n",
      "       'HPA048982_SBA4_rep1'],\n",
      "      dtype='object', length=1039)\n"
     ]
    },
    {
     "name": "stderr",
     "output_type": "stream",
     "text": [
      "C:\\Users\\Noah\\AppData\\Local\\Temp\\ipykernel_23492\\420691565.py:14: FutureWarning: Downcasting behavior in `replace` is deprecated and will be removed in a future version. To retain the old behavior, explicitly call `result.infer_objects(copy=False)`. To opt-in to the future behavior, set `pd.set_option('future.no_silent_downcasting', True)`\n",
      "  dataset['Disease'] = dataset['Disease'].replace(token_to_val)\n"
     ]
    },
    {
     "data": {
      "text/plain": "   ID Sample_ID Participant_ID Dataset  Disease    Age TREAT  FT1  FT2  FT3  \\\n0   1       S87             P3    DNHS      1.0  11.61   NaN  0.0  0.0  NaN   \n1   2       S10             P3    DNHS      1.0  12.62   NaN  NaN  NaN  NaN   \n2   3       S19             P3    DNHS      1.0  13.62   NaN  NaN  NaN  NaN   \n3   4      S137             P4    DNHS      1.0  11.43   NaN  NaN  NaN  NaN   \n4   5      S182             P4    DNHS      1.0  13.25   NaN  NaN  NaN  NaN   \n\n   ...  HPA049320_SBA4_rep1  HPA051620_SBA4_rep1  HPA054862_SBA4_rep1  \\\n0  ...            12.476497            12.666707            12.331400   \n1  ...            12.494297            12.564169            12.354718   \n2  ...            12.554581            12.707240            12.460004   \n3  ...            12.455811            12.505603            12.416459   \n4  ...            12.523768            12.598164            12.369592   \n\n  HPA003901_SBA4_rep1  HPA035863_SBA4_rep1  HPA040052_SBA4_rep1  \\\n0           12.410101            12.504796            12.580695   \n1           12.581718            12.441237            12.583769   \n2           12.610387            12.504661            12.556319   \n3           12.510771            12.472934            12.556096   \n4           12.605211            12.523768            12.503911   \n\n   HPA041542_SBA4_rep1  HPA044582_SBA4_rep1  HPA045702_SBA4_rep1  \\\n0            12.574592            12.797013            12.492433   \n1            12.579893            12.660894            12.450384   \n2            12.679701            12.824755            12.517335   \n3            12.473760            12.744020            12.511776   \n4            12.557672            12.926602            12.518327   \n\n   HPA048982_SBA4_rep1  \n0            12.622226  \n1            12.704464  \n2            12.836970  \n3            12.666065  \n4            12.668579  \n\n[5 rows x 1039 columns]",
      "text/html": "<div>\n<style scoped>\n    .dataframe tbody tr th:only-of-type {\n        vertical-align: middle;\n    }\n\n    .dataframe tbody tr th {\n        vertical-align: top;\n    }\n\n    .dataframe thead th {\n        text-align: right;\n    }\n</style>\n<table border=\"1\" class=\"dataframe\">\n  <thead>\n    <tr style=\"text-align: right;\">\n      <th></th>\n      <th>ID</th>\n      <th>Sample_ID</th>\n      <th>Participant_ID</th>\n      <th>Dataset</th>\n      <th>Disease</th>\n      <th>Age</th>\n      <th>TREAT</th>\n      <th>FT1</th>\n      <th>FT2</th>\n      <th>FT3</th>\n      <th>...</th>\n      <th>HPA049320_SBA4_rep1</th>\n      <th>HPA051620_SBA4_rep1</th>\n      <th>HPA054862_SBA4_rep1</th>\n      <th>HPA003901_SBA4_rep1</th>\n      <th>HPA035863_SBA4_rep1</th>\n      <th>HPA040052_SBA4_rep1</th>\n      <th>HPA041542_SBA4_rep1</th>\n      <th>HPA044582_SBA4_rep1</th>\n      <th>HPA045702_SBA4_rep1</th>\n      <th>HPA048982_SBA4_rep1</th>\n    </tr>\n  </thead>\n  <tbody>\n    <tr>\n      <th>0</th>\n      <td>1</td>\n      <td>S87</td>\n      <td>P3</td>\n      <td>DNHS</td>\n      <td>1.0</td>\n      <td>11.61</td>\n      <td>NaN</td>\n      <td>0.0</td>\n      <td>0.0</td>\n      <td>NaN</td>\n      <td>...</td>\n      <td>12.476497</td>\n      <td>12.666707</td>\n      <td>12.331400</td>\n      <td>12.410101</td>\n      <td>12.504796</td>\n      <td>12.580695</td>\n      <td>12.574592</td>\n      <td>12.797013</td>\n      <td>12.492433</td>\n      <td>12.622226</td>\n    </tr>\n    <tr>\n      <th>1</th>\n      <td>2</td>\n      <td>S10</td>\n      <td>P3</td>\n      <td>DNHS</td>\n      <td>1.0</td>\n      <td>12.62</td>\n      <td>NaN</td>\n      <td>NaN</td>\n      <td>NaN</td>\n      <td>NaN</td>\n      <td>...</td>\n      <td>12.494297</td>\n      <td>12.564169</td>\n      <td>12.354718</td>\n      <td>12.581718</td>\n      <td>12.441237</td>\n      <td>12.583769</td>\n      <td>12.579893</td>\n      <td>12.660894</td>\n      <td>12.450384</td>\n      <td>12.704464</td>\n    </tr>\n    <tr>\n      <th>2</th>\n      <td>3</td>\n      <td>S19</td>\n      <td>P3</td>\n      <td>DNHS</td>\n      <td>1.0</td>\n      <td>13.62</td>\n      <td>NaN</td>\n      <td>NaN</td>\n      <td>NaN</td>\n      <td>NaN</td>\n      <td>...</td>\n      <td>12.554581</td>\n      <td>12.707240</td>\n      <td>12.460004</td>\n      <td>12.610387</td>\n      <td>12.504661</td>\n      <td>12.556319</td>\n      <td>12.679701</td>\n      <td>12.824755</td>\n      <td>12.517335</td>\n      <td>12.836970</td>\n    </tr>\n    <tr>\n      <th>3</th>\n      <td>4</td>\n      <td>S137</td>\n      <td>P4</td>\n      <td>DNHS</td>\n      <td>1.0</td>\n      <td>11.43</td>\n      <td>NaN</td>\n      <td>NaN</td>\n      <td>NaN</td>\n      <td>NaN</td>\n      <td>...</td>\n      <td>12.455811</td>\n      <td>12.505603</td>\n      <td>12.416459</td>\n      <td>12.510771</td>\n      <td>12.472934</td>\n      <td>12.556096</td>\n      <td>12.473760</td>\n      <td>12.744020</td>\n      <td>12.511776</td>\n      <td>12.666065</td>\n    </tr>\n    <tr>\n      <th>4</th>\n      <td>5</td>\n      <td>S182</td>\n      <td>P4</td>\n      <td>DNHS</td>\n      <td>1.0</td>\n      <td>13.25</td>\n      <td>NaN</td>\n      <td>NaN</td>\n      <td>NaN</td>\n      <td>NaN</td>\n      <td>...</td>\n      <td>12.523768</td>\n      <td>12.598164</td>\n      <td>12.369592</td>\n      <td>12.605211</td>\n      <td>12.523768</td>\n      <td>12.503911</td>\n      <td>12.557672</td>\n      <td>12.926602</td>\n      <td>12.518327</td>\n      <td>12.668579</td>\n    </tr>\n  </tbody>\n</table>\n<p>5 rows × 1039 columns</p>\n</div>"
     },
     "execution_count": 37,
     "metadata": {},
     "output_type": "execute_result"
    }
   ],
   "source": [
    "# Dictionary for value conversion\n",
    "token_to_val = {\n",
    "    \"DMD\": 1,\n",
    "    \"Cnt\": 0\n",
    "}\n",
    "# Rename columns\n",
    "dataset.rename(columns={dataset.columns[0]: 'ID'}, inplace=True)\n",
    "dataset.rename(columns={'Sample.ID': 'Sample_ID'}, inplace=True)\n",
    "dataset.rename(columns={'Participant.ID': 'Participant_ID'}, inplace=True)\n",
    "dataset.rename(columns={'dataset': 'Dataset'}, inplace=True)\n",
    "dataset.rename(columns={'patregag': 'Age'}, inplace=True)\n",
    "\n",
    "# Replace the string values in the column using the mapping in token_to_val\n",
    "dataset['Disease'] = dataset['Disease'].replace(token_to_val)\n",
    "\n",
    "# Verify the change\n",
    "print(dataset.columns)\n",
    "dataset.head()"
   ]
  },
  {
   "cell_type": "code",
   "execution_count": 38,
   "metadata": {
    "ExecuteTime": {
     "end_time": "2024-04-24T14:05:42.518449Z",
     "start_time": "2024-04-24T14:05:42.505448Z"
    }
   },
   "outputs": [
    {
     "name": "stdout",
     "output_type": "stream",
     "text": [
      "         FT1       FT2       FT3    FT4   FT5\n",
      "0   0.000000  0.000000       NaN    NaN   NaN\n",
      "1        NaN       NaN       NaN    NaN   NaN\n",
      "2        NaN       NaN       NaN    NaN   NaN\n",
      "3        NaN       NaN       NaN    NaN   NaN\n",
      "4        NaN       NaN       NaN    NaN   NaN\n",
      "5   2.538071  0.628931  0.367647  488.7  32.0\n",
      "6   2.531646  0.492611  0.275482  475.0  29.0\n",
      "7        NaN       NaN       NaN    NaN   NaN\n",
      "8   2.237136  0.346021  0.176991  449.0  31.0\n",
      "9        NaN       NaN       NaN    NaN  34.0\n",
      "10       NaN       NaN       NaN    NaN  34.0\n",
      "11       NaN       NaN       NaN    NaN  34.0\n",
      "12       NaN       NaN       NaN    NaN  34.0\n",
      "13       NaN       NaN       NaN    NaN  34.0\n",
      "14       NaN       NaN       NaN    NaN  34.0\n"
     ]
    }
   ],
   "source": [
    "# Give control group (non DMD) default value of 34 (top score) on FT5\n",
    "in_control = dataset['Disease']  == 0.0\n",
    "control_index = in_control[in_control == True].index\n",
    "dataset.loc[control_index, 'FT5'] = 34\n",
    "\n",
    "# Verify the change\n",
    "print(dataset.iloc[:15, 7:12])"
   ]
  },
  {
   "cell_type": "raw",
   "source": [
    "## Column Based Data Clean-up"
   ],
   "metadata": {
    "collapsed": false
   }
  },
  {
   "cell_type": "code",
   "execution_count": 39,
   "metadata": {
    "ExecuteTime": {
     "end_time": "2024-04-24T14:05:42.524119Z",
     "start_time": "2024-04-24T14:05:42.519448Z"
    }
   },
   "outputs": [],
   "source": [
    "def calculate_column_value_percentage(df, start_column=1): # TODO: add end_column param\n",
    "    \"\"\"\n",
    "    Calculates the percentage of actual (non-NA) data points for each column in a pandas DataFrame\n",
    "    within a specified column interval.\n",
    "\n",
    "    :param df: A pandas DataFrame with potential NA values.\n",
    "    :param start_column: The starting column index for the interval (1-based index).\n",
    "    :param end_column: The ending column index for the interval. If None, calculates up to \n",
    "    the last column. \n",
    "    :return: A pandas Series with the percentage of non-NA values for each column in the interval.\n",
    "    \"\"\"\n",
    "    # Adjust for 0-based indexing\n",
    "    start_index = max(0, start_column - 1)\n",
    "\n",
    "    # Select only the columns within the specified interval\n",
    "    interval_df = df.iloc[:, start_index:]\n",
    "\n",
    "    # Calculate the total number of non-NA values for each column\n",
    "    value_counts = interval_df.count()\n",
    "\n",
    "    # Calculate the total number of rows (to handle potential NA rows)\n",
    "    total_rows = len(df)\n",
    "\n",
    "    # Calculate the percentage of non-NA values for each column\n",
    "    val_percentage = (value_counts / total_rows) * 100\n",
    "    \n",
    "    return val_percentage"
   ]
  },
  {
   "cell_type": "code",
   "execution_count": 40,
   "metadata": {
    "ExecuteTime": {
     "end_time": "2024-04-24T14:05:42.538107Z",
     "start_time": "2024-04-24T14:05:42.525106Z"
    }
   },
   "outputs": [
    {
     "name": "stdout",
     "output_type": "stream",
     "text": [
      "Column HPA003948_SBA1_rep1 has 0.00% non-NA values\n",
      "Column HPA059806_SBA1_rep1 has 11.20% non-NA values\n",
      "Column HPA055893_SBA2_rep1 has 41.15% non-NA values\n",
      "Column HPA035933_SBA2_rep1 has 33.07% non-NA values\n",
      "Column HPA009426_SBA2_rep1 has 32.29% non-NA values\n",
      "Column HPA057437_SBA3_rep1 has 0.00% non-NA values\n",
      "Column HPA003909_SBA3_rep1 has 15.89% non-NA values\n",
      "Column HPA015774_SBA3_rep1 has 42.45% non-NA values\n",
      "Column HPA003223_SBA3_rep1 has 6.77% non-NA values\n",
      "Column HPA003948_SBA3_rep1 has 0.00% non-NA values\n",
      "Column Empty_SBA3_rep1 has 8.85% non-NA values\n",
      "Column HPA040591_SBA3_rep1 has 30.99% non-NA values\n",
      "Column HPA034960_SBA3_rep1 has 0.00% non-NA values\n",
      "Column HPA021513_SBA3_rep1 has 43.75% non-NA values\n",
      "Column HPA058513_SBA3_rep1 has 0.00% non-NA values\n",
      "Column HPA036287_SBA3_rep1 has 11.46% non-NA values\n",
      "Column HPA073315_SBA3_rep1 has 13.54% non-NA values\n",
      "Column HPA041863_SBA3_rep1 has 34.38% non-NA values\n",
      "Column HPA004712_SBA3_rep1 has 34.64% non-NA values\n",
      "Column HPA074922_SBA3_rep1 has 0.00% non-NA values\n",
      "Column HPA000837_SBA4_rep1 has 0.00% non-NA values\n",
      "Column HPA001482_SBA4_rep1 has 0.00% non-NA values\n",
      "Column HPA000293_SBA4_rep1 has 0.00% non-NA values\n",
      "Column HPA007982_SBA4_rep1 has 31.51% non-NA values\n",
      "Column HPA028190_SBA4_rep1 has 14.32% non-NA values\n",
      "Column HPA031466_SBA4_rep1 has 0.00% non-NA values\n",
      "Column HPA040972_SBA4_rep1 has 0.00% non-NA values\n",
      "Column HPA001526_SBA4_rep1 has 8.85% non-NA values\n",
      "Column HPA002021_SBA4_rep1 has 45.57% non-NA values\n",
      "Column HPA010558_SBA4_rep1 has 0.00% non-NA values\n",
      "Column HPA013390_SBA4_rep1 has 7.03% non-NA values\n",
      "Column HPA020610_SBA4_rep1 has 0.00% non-NA values\n",
      "Column HPA028657_SBA4_rep1 has 34.64% non-NA values\n",
      "Column HPA030651_SBA4_rep1 has 0.00% non-NA values\n",
      "Column HPA000226_SBA4_rep1 has 0.00% non-NA values\n",
      "Column HPA007316_SBA4_rep1 has 10.42% non-NA values\n",
      "Column HPA008128_SBA4_rep1 has 7.55% non-NA values\n",
      "Column HPA064736_SBA4_rep1 has 49.74% non-NA values\n",
      "Column HPA041991_SBA4_rep1 has 0.00% non-NA values\n",
      "Column HPA000564_SBA4_rep1 has 0.00% non-NA values\n",
      "Column HPA007427_SBA4_rep1 has 22.14% non-NA values\n",
      "Column HPA035222_SBA4_rep1 has 0.00% non-NA values\n",
      "Column HPA041943_SBA4_rep1 has 0.00% non-NA values\n",
      "Column HPA001373_SBA4_rep1 has 31.51% non-NA values\n",
      "Column HPA001833_SBA4_rep1 has 0.00% non-NA values\n",
      "Column HPA003927_SBA4_rep1 has 0.00% non-NA values\n",
      "Column HPA006666_SBA4_rep1 has 6.51% non-NA values\n",
      "Column HPA008880_SBA4_rep1 has 26.30% non-NA values\n",
      "Column HPA015109_SBA4_rep1 has 7.03% non-NA values\n",
      "Column HPA027526_SBA4_rep1 has 38.02% non-NA values\n",
      "Column HPA035029_SBA4_rep1 has 45.57% non-NA values\n",
      "Column HPA003157_SBA4_rep1 has 13.80% non-NA values\n",
      "Column HPA011918_SBA4_rep1 has 0.00% non-NA values\n",
      "Column HPA023314_SBA4_rep1 has 0.00% non-NA values\n",
      "Column HPA015236_SBA4_rep1 has 21.61% non-NA values\n",
      "Column HPA031335_SBA4_rep1 has 0.00% non-NA values\n",
      "Column HPA031717_SBA4_rep1 has 0.00% non-NA values\n",
      "Column HPA026430_SBA4_rep1 has 7.81% non-NA values\n",
      "We have 58 proteins with less than 50% datapoints\n"
     ]
    }
   ],
   "source": [
    "# Calculate column statistics for low content columns\n",
    "value_percentage = calculate_column_value_percentage(dataset, 15)\n",
    "limit = 50\n",
    "low_percentage_columns = value_percentage[value_percentage < limit]\n",
    "\n",
    "# Visualize status\n",
    "num = 0\n",
    "for column, percentage in low_percentage_columns.items():\n",
    "    print(f\"Column {column} has {percentage:.2f}% non-NA values\")\n",
    "    num += 1\n",
    "\n",
    "print(f\"We have {num} proteins with less than {limit}% datapoints\")"
   ]
  },
  {
   "cell_type": "code",
   "execution_count": 41,
   "metadata": {
    "ExecuteTime": {
     "end_time": "2024-04-24T14:05:42.562141Z",
     "start_time": "2024-04-24T14:05:42.539105Z"
    }
   },
   "outputs": [
    {
     "name": "stdout",
     "output_type": "stream",
     "text": [
      "Columns to drop: Index(['HPA003948_SBA1_rep1', 'HPA059806_SBA1_rep1', 'HPA055893_SBA2_rep1',\n",
      "       'HPA035933_SBA2_rep1', 'HPA009426_SBA2_rep1', 'HPA057437_SBA3_rep1',\n",
      "       'HPA003909_SBA3_rep1', 'HPA015774_SBA3_rep1', 'HPA003223_SBA3_rep1',\n",
      "       'HPA003948_SBA3_rep1', 'Empty_SBA3_rep1', 'HPA040591_SBA3_rep1',\n",
      "       'HPA034960_SBA3_rep1', 'HPA021513_SBA3_rep1', 'HPA058513_SBA3_rep1',\n",
      "       'HPA036287_SBA3_rep1', 'HPA073315_SBA3_rep1', 'HPA041863_SBA3_rep1',\n",
      "       'HPA004712_SBA3_rep1', 'HPA074922_SBA3_rep1', 'HPA000837_SBA4_rep1',\n",
      "       'HPA001482_SBA4_rep1', 'HPA000293_SBA4_rep1', 'HPA007982_SBA4_rep1',\n",
      "       'HPA028190_SBA4_rep1', 'HPA031466_SBA4_rep1', 'HPA040972_SBA4_rep1',\n",
      "       'HPA001526_SBA4_rep1', 'HPA002021_SBA4_rep1', 'HPA010558_SBA4_rep1',\n",
      "       'HPA013390_SBA4_rep1', 'HPA020610_SBA4_rep1', 'HPA028657_SBA4_rep1',\n",
      "       'HPA030651_SBA4_rep1', 'HPA000226_SBA4_rep1', 'HPA007316_SBA4_rep1',\n",
      "       'HPA008128_SBA4_rep1', 'HPA064736_SBA4_rep1', 'HPA041991_SBA4_rep1',\n",
      "       'HPA000564_SBA4_rep1', 'HPA007427_SBA4_rep1', 'HPA035222_SBA4_rep1',\n",
      "       'HPA041943_SBA4_rep1', 'HPA001373_SBA4_rep1', 'HPA001833_SBA4_rep1',\n",
      "       'HPA003927_SBA4_rep1', 'HPA006666_SBA4_rep1', 'HPA008880_SBA4_rep1',\n",
      "       'HPA015109_SBA4_rep1', 'HPA027526_SBA4_rep1', 'HPA035029_SBA4_rep1',\n",
      "       'HPA003157_SBA4_rep1', 'HPA011918_SBA4_rep1', 'HPA023314_SBA4_rep1',\n",
      "       'HPA015236_SBA4_rep1', 'HPA031335_SBA4_rep1', 'HPA031717_SBA4_rep1',\n",
      "       'HPA026430_SBA4_rep1'],\n",
      "      dtype='object')\n",
      "Before drop: (384, 1039)\n",
      "After drop: (384, 981)\n"
     ]
    }
   ],
   "source": [
    "# Remove empty columns\n",
    "columns_to_drop = low_percentage_columns.index\n",
    "print(\"Columns to drop:\", columns_to_drop)\n",
    "\n",
    "# Check changes\n",
    "print(\"Before drop:\", dataset.shape)\n",
    "dataset.drop(labels=columns_to_drop, axis=\"columns\", inplace=True)\n",
    "print(\"After drop:\", dataset.shape)"
   ]
  },
  {
   "cell_type": "code",
   "execution_count": 42,
   "metadata": {
    "ExecuteTime": {
     "end_time": "2024-04-24T14:05:42.573475Z",
     "start_time": "2024-04-24T14:05:42.565143Z"
    }
   },
   "outputs": [
    {
     "name": "stdout",
     "output_type": "stream",
     "text": [
      "Before drop: (384, 981)\n",
      "After drop: (384, 976)\n"
     ]
    }
   ],
   "source": [
    "# Remove abundant data and calibration columns\n",
    "print(\"Before drop:\", dataset.shape)\n",
    "dataset.drop(labels=['TREAT', 'Plate', 'Location', 'Empty_SBA1_rep1', 'Rabbit.IgG_SBA1_rep1'], axis='columns', inplace=True)\n",
    "print(\"After drop:\", dataset.shape)"
   ]
  },
  {
   "cell_type": "raw",
   "source": [
    "## Row Based Data Clean-up"
   ],
   "metadata": {
    "collapsed": false
   }
  },
  {
   "cell_type": "code",
   "execution_count": 43,
   "metadata": {
    "ExecuteTime": {
     "end_time": "2024-04-24T14:05:42.579666Z",
     "start_time": "2024-04-24T14:05:42.574460Z"
    }
   },
   "outputs": [],
   "source": [
    "def remove_wrong_value_rows(df, column_name, wrong_val):\n",
    "    \"\"\"\n",
    "    Removes rows from the DataFrame where the specified column has the specified wrong value.\n",
    "\n",
    "    :param df: A pandas DataFrame from which rows will be removed.\n",
    "    :param column_name: The name of the column to check for the wrong value.\n",
    "    :param wrong_val: The value considered wrong in the specified column.\n",
    "    :return: A pandas DataFrame with rows containing the wrong value in the specified column removed.\n",
    "    \"\"\"\n",
    "    if isinstance(wrong_val, str):\n",
    "        wrong_val = list([wrong_val])\n",
    "        \n",
    "    for val in wrong_val:\n",
    "        # Find indices of rows with the wrong value\n",
    "        incorrect = dataset[column_name] == val\n",
    "        idxs_to_drop = incorrect[incorrect == True].index\n",
    "        # Drop these rows\n",
    "        df.drop(idxs_to_drop, inplace=True)\n",
    "    return df"
   ]
  },
  {
   "cell_type": "code",
   "execution_count": 44,
   "metadata": {
    "ExecuteTime": {
     "end_time": "2024-04-24T14:05:42.596652Z",
     "start_time": "2024-04-24T14:05:42.580652Z"
    }
   },
   "outputs": [
    {
     "name": "stdout",
     "output_type": "stream",
     "text": [
      "Before drop: (384, 976)\n",
      "After drop: (372, 976)\n"
     ]
    }
   ],
   "source": [
    "# Drop rows with invalid sample data\n",
    "print(\"Before drop:\", dataset.shape)\n",
    "dataset = remove_wrong_value_rows(dataset, 'Sample_ID', ['BLANK', 'POOL 1', 'POOL 2'])\n",
    "print(\"After drop:\", dataset.shape)"
   ]
  },
  {
   "cell_type": "code",
   "execution_count": 45,
   "metadata": {
    "ExecuteTime": {
     "end_time": "2024-04-24T14:05:42.605544Z",
     "start_time": "2024-04-24T14:05:42.597653Z"
    }
   },
   "outputs": [
    {
     "name": "stdout",
     "output_type": "stream",
     "text": [
      "Before drop: (372, 976)\n",
      "After drop: (357, 976)\n"
     ]
    }
   ],
   "source": [
    "# Drop rows with NaN in the row's key values\n",
    "print(\"Before drop:\", dataset.shape)\n",
    "dataset.dropna(subset=['Sample_ID','Disease'], inplace=True)\n",
    "print(\"After drop:\", dataset.shape)"
   ]
  },
  {
   "cell_type": "raw",
   "source": [
    "#### Handle sample duplicates"
   ],
   "metadata": {
    "collapsed": false
   }
  },
  {
   "cell_type": "code",
   "execution_count": 46,
   "metadata": {
    "ExecuteTime": {
     "end_time": "2024-04-24T14:05:42.612548Z",
     "start_time": "2024-04-24T14:05:42.606529Z"
    }
   },
   "outputs": [],
   "source": [
    "def get_duplicate_indices(df, cols):\n",
    "    \"\"\"\n",
    "    Find indices of rows with the wrong value in the specified column.\n",
    "    \"\"\"\n",
    "    duplicate = df.duplicated(subset=cols, keep=False)\n",
    "    duplicate_idxs = duplicate[duplicate == True].index\n",
    "    return duplicate_idxs"
   ]
  },
  {
   "cell_type": "code",
   "execution_count": 47,
   "metadata": {
    "ExecuteTime": {
     "end_time": "2024-04-24T14:05:42.621021Z",
     "start_time": "2024-04-24T14:05:42.614534Z"
    }
   },
   "outputs": [],
   "source": [
    "def calculate_row_value_percentage(df, start_column=0):\n",
    "    \"\"\"\n",
    "    Calculates the percentage of actual (non-NA) data points for each row in a pandas DataFrame.\n",
    "\n",
    "    :param start_column: \n",
    "    :param df: A pandas DataFrame with potential NA values.\n",
    "    :return: A pandas Series with the percentage of non-NA values for each row.\n",
    "    \"\"\"\n",
    "    # Adjust for 0-based indexing\n",
    "    start_index = max(0, start_column - 1)\n",
    "\n",
    "    # Select only the columns within the specified interval\n",
    "    interval_df = df.iloc[:, start_index:]\n",
    "\n",
    "    # Calculate the number of non-NA values per row\n",
    "    value_counts_per_row = df.notna().sum(axis=1)\n",
    "\n",
    "    # Calculate the total number of columns (to handle potential NA values)\n",
    "    total_columns = interval_df.shape[1]\n",
    "\n",
    "    # Calculate the percentage of non-NA values for each row\n",
    "    value_percentage_per_row = (value_counts_per_row / total_columns) * 100\n",
    "\n",
    "    return value_percentage_per_row"
   ]
  },
  {
   "cell_type": "code",
   "execution_count": 48,
   "metadata": {
    "ExecuteTime": {
     "end_time": "2024-04-24T14:05:42.629302Z",
     "start_time": "2024-04-24T14:05:42.622008Z"
    }
   },
   "outputs": [],
   "source": [
    "def remove_duplicate_rows(df, duplicate_idxs, row_val_perc):\n",
    "\n",
    "    for i in duplicate_idxs:\n",
    "        # For each duplicate find the duplicate sample.ID value using the index\n",
    "        sample_ID = df.iloc[i]['Sample_ID']\n",
    "\n",
    "        # Find all row indices of occurrences of the value\n",
    "        duplicate_sample_ID_indices = df.index[df['Sample_ID'] == sample_ID]\n",
    "\n",
    "        # Find which of these rows have the highest percentage in row_val_percentages\n",
    "        best_index = -1\n",
    "        best_val = -1\n",
    "        for duplicate_idx in duplicate_sample_ID_indices:\n",
    "            val = row_val_perc.loc[duplicate_idx]\n",
    "\n",
    "            if val > best_val:\n",
    "                best_val = val\n",
    "                best_index = duplicate_idx\n",
    "\n",
    "        # Remove best from list of duplicates\n",
    "        duplicate_sample_ID_indices = duplicate_sample_ID_indices.drop(best_index)\n",
    "\n",
    "        # Drop the rest of the duplicates\n",
    "        df.drop(index=duplicate_sample_ID_indices, inplace=True)"
   ]
  },
  {
   "cell_type": "code",
   "execution_count": 49,
   "metadata": {
    "ExecuteTime": {
     "end_time": "2024-04-24T14:05:42.722734Z",
     "start_time": "2024-04-24T14:05:42.630287Z"
    }
   },
   "outputs": [
    {
     "name": "stdout",
     "output_type": "stream",
     "text": [
      "Before drop: (357, 976)\n",
      "After drop: (342, 976)\n"
     ]
    }
   ],
   "source": [
    "# Remove duplicate rows for same Sample_ID\n",
    "duplicate_indexes = get_duplicate_indices(dataset, 'Sample_ID')\n",
    "row_val_percentages = calculate_row_value_percentage(dataset, start_column=15)\n",
    "\n",
    "# Check changes\n",
    "print(\"Before drop:\", dataset.shape)\n",
    "remove_duplicate_rows(dataset, duplicate_indexes, row_val_percentages)\n",
    "print(\"After drop:\", dataset.shape)"
   ]
  },
  {
   "cell_type": "raw",
   "source": [
    "### Row handling based on FT5 (Should consider data generation based on age/other tests)"
   ],
   "metadata": {
    "collapsed": false
   }
  },
  {
   "cell_type": "code",
   "execution_count": 50,
   "metadata": {
    "ExecuteTime": {
     "end_time": "2024-04-24T14:05:42.748569Z",
     "start_time": "2024-04-24T14:05:42.723568Z"
    }
   },
   "outputs": [
    {
     "name": "stdout",
     "output_type": "stream",
     "text": [
      "Before drop: (342, 976)\n",
      "After drop: (301, 976)\n"
     ]
    },
    {
     "data": {
      "text/plain": "    ID Sample_ID Participant_ID Dataset  Disease    Age       FT1       FT2  \\\n5    6      S237             P5    DNHS      1.0  11.72  2.538071  0.628931   \n6    7      S220             P5    DNHS      1.0  13.41  2.531646  0.492611   \n8    9       S91             P6    DNHS      1.0  11.76  2.237136  0.346021   \n9   10       S49           P134    DNHS      0.0    NaN       NaN       NaN   \n16  17       S79           P134    DNHS      0.0    NaN       NaN       NaN   \n18  19       S70           P135    DNHS      0.0    NaN       NaN       NaN   \n21  22        S2           P135    DNHS      0.0    NaN       NaN       NaN   \n26  27       S83           P136    DNHS      0.0    NaN       NaN       NaN   \n27  28       S41           P136    DNHS      0.0    NaN       NaN       NaN   \n31  32      S276             P7    DNHS      1.0  10.90  1.461988  0.155763   \n32  33      S302             P7    DNHS      1.0  11.94  0.995025  0.117233   \n33  34      S351             P7    DNHS      1.0  12.67  0.923361  0.092764   \n35  36      S348             P9    DNHS      1.0  11.12       NaN  0.196078   \n36  37      S286             P9    DNHS      1.0  12.03  1.020408  0.112360   \n38  39      S273            P10    DNHS      1.0  11.58  0.869565       NaN   \n\n         FT3    FT4  ...  HPA049320_SBA4_rep1  HPA051620_SBA4_rep1  \\\n5   0.367647  488.7  ...            12.543301            12.608368   \n6   0.275482  475.0  ...            12.390816            12.571472   \n8   0.176991  449.0  ...            12.464468            12.599863   \n9        NaN    NaN  ...            12.560804            12.531565   \n16       NaN    NaN  ...            12.583934            12.599499   \n18       NaN    NaN  ...            12.456166            12.597872   \n21       NaN    NaN  ...            12.481201            12.621694   \n26       NaN    NaN  ...            12.403677            12.545281   \n27       NaN    NaN  ...            12.391321            12.450349   \n31  0.114155  317.0  ...            12.476450            12.425208   \n32  0.093284  150.0  ...                  NaN                  NaN   \n33  0.070972    NaN  ...            12.476410            12.483707   \n35       NaN    NaN  ...            12.428524            12.626223   \n36       NaN   75.0  ...            12.380450            12.483917   \n38  0.000000  209.0  ...            12.488839            12.597753   \n\n    HPA054862_SBA4_rep1  HPA003901_SBA4_rep1  HPA035863_SBA4_rep1  \\\n5                   NaN                  NaN            12.598509   \n6             12.389882            12.490296            12.522449   \n8             12.459217            12.509688            12.482434   \n9             12.490397            12.419143            12.585085   \n16            12.527210            12.636333            12.440678   \n18            12.496037            12.652614            12.457952   \n21            12.415145            12.616261            12.450933   \n26                  NaN            12.439043            12.489224   \n27            12.378164            12.358069            12.510605   \n31                  NaN            12.397139            12.523445   \n32                  NaN                  NaN            12.397159   \n33                  NaN            12.294553            12.562372   \n35                  NaN            12.414213            12.507686   \n36                  NaN            12.590108            12.615858   \n38            12.562960            12.415403            12.642297   \n\n    HPA040052_SBA4_rep1  HPA041542_SBA4_rep1  HPA044582_SBA4_rep1  \\\n5             12.452527            12.495444            12.800951   \n6             12.519723            12.413517            12.917533   \n8             12.507582            12.593243            12.733109   \n9             12.509866            12.386933            12.820761   \n16            12.555278            12.617759            12.909895   \n18            12.487103            12.521334            12.823034   \n21            12.536485            12.559103            12.795596   \n26            12.565305            12.600430            12.764371   \n27            12.474641            12.471794            12.904288   \n31            12.530703            12.503940            12.791145   \n32                  NaN                  NaN                  NaN   \n33            12.481790            12.456831            13.131979   \n35            12.588375            12.506773                  NaN   \n36            12.488005            12.546289            12.861138   \n38            12.629846            12.642667            13.134355   \n\n    HPA045702_SBA4_rep1  HPA048982_SBA4_rep1  \n5             12.696679            12.602999  \n6             12.514924            12.618601  \n8             12.554774            12.587261  \n9             12.532538            12.661084  \n16            12.578293            12.685735  \n18            12.541253            12.606741  \n21            12.552749            12.618074  \n26            12.561835                  NaN  \n27            12.526909                  NaN  \n31            12.471993            12.604703  \n32                  NaN                  NaN  \n33            12.578485                  NaN  \n35            12.445122                  NaN  \n36            12.520447                  NaN  \n38            12.628539            12.773149  \n\n[15 rows x 976 columns]",
      "text/html": "<div>\n<style scoped>\n    .dataframe tbody tr th:only-of-type {\n        vertical-align: middle;\n    }\n\n    .dataframe tbody tr th {\n        vertical-align: top;\n    }\n\n    .dataframe thead th {\n        text-align: right;\n    }\n</style>\n<table border=\"1\" class=\"dataframe\">\n  <thead>\n    <tr style=\"text-align: right;\">\n      <th></th>\n      <th>ID</th>\n      <th>Sample_ID</th>\n      <th>Participant_ID</th>\n      <th>Dataset</th>\n      <th>Disease</th>\n      <th>Age</th>\n      <th>FT1</th>\n      <th>FT2</th>\n      <th>FT3</th>\n      <th>FT4</th>\n      <th>...</th>\n      <th>HPA049320_SBA4_rep1</th>\n      <th>HPA051620_SBA4_rep1</th>\n      <th>HPA054862_SBA4_rep1</th>\n      <th>HPA003901_SBA4_rep1</th>\n      <th>HPA035863_SBA4_rep1</th>\n      <th>HPA040052_SBA4_rep1</th>\n      <th>HPA041542_SBA4_rep1</th>\n      <th>HPA044582_SBA4_rep1</th>\n      <th>HPA045702_SBA4_rep1</th>\n      <th>HPA048982_SBA4_rep1</th>\n    </tr>\n  </thead>\n  <tbody>\n    <tr>\n      <th>5</th>\n      <td>6</td>\n      <td>S237</td>\n      <td>P5</td>\n      <td>DNHS</td>\n      <td>1.0</td>\n      <td>11.72</td>\n      <td>2.538071</td>\n      <td>0.628931</td>\n      <td>0.367647</td>\n      <td>488.7</td>\n      <td>...</td>\n      <td>12.543301</td>\n      <td>12.608368</td>\n      <td>NaN</td>\n      <td>NaN</td>\n      <td>12.598509</td>\n      <td>12.452527</td>\n      <td>12.495444</td>\n      <td>12.800951</td>\n      <td>12.696679</td>\n      <td>12.602999</td>\n    </tr>\n    <tr>\n      <th>6</th>\n      <td>7</td>\n      <td>S220</td>\n      <td>P5</td>\n      <td>DNHS</td>\n      <td>1.0</td>\n      <td>13.41</td>\n      <td>2.531646</td>\n      <td>0.492611</td>\n      <td>0.275482</td>\n      <td>475.0</td>\n      <td>...</td>\n      <td>12.390816</td>\n      <td>12.571472</td>\n      <td>12.389882</td>\n      <td>12.490296</td>\n      <td>12.522449</td>\n      <td>12.519723</td>\n      <td>12.413517</td>\n      <td>12.917533</td>\n      <td>12.514924</td>\n      <td>12.618601</td>\n    </tr>\n    <tr>\n      <th>8</th>\n      <td>9</td>\n      <td>S91</td>\n      <td>P6</td>\n      <td>DNHS</td>\n      <td>1.0</td>\n      <td>11.76</td>\n      <td>2.237136</td>\n      <td>0.346021</td>\n      <td>0.176991</td>\n      <td>449.0</td>\n      <td>...</td>\n      <td>12.464468</td>\n      <td>12.599863</td>\n      <td>12.459217</td>\n      <td>12.509688</td>\n      <td>12.482434</td>\n      <td>12.507582</td>\n      <td>12.593243</td>\n      <td>12.733109</td>\n      <td>12.554774</td>\n      <td>12.587261</td>\n    </tr>\n    <tr>\n      <th>9</th>\n      <td>10</td>\n      <td>S49</td>\n      <td>P134</td>\n      <td>DNHS</td>\n      <td>0.0</td>\n      <td>NaN</td>\n      <td>NaN</td>\n      <td>NaN</td>\n      <td>NaN</td>\n      <td>NaN</td>\n      <td>...</td>\n      <td>12.560804</td>\n      <td>12.531565</td>\n      <td>12.490397</td>\n      <td>12.419143</td>\n      <td>12.585085</td>\n      <td>12.509866</td>\n      <td>12.386933</td>\n      <td>12.820761</td>\n      <td>12.532538</td>\n      <td>12.661084</td>\n    </tr>\n    <tr>\n      <th>16</th>\n      <td>17</td>\n      <td>S79</td>\n      <td>P134</td>\n      <td>DNHS</td>\n      <td>0.0</td>\n      <td>NaN</td>\n      <td>NaN</td>\n      <td>NaN</td>\n      <td>NaN</td>\n      <td>NaN</td>\n      <td>...</td>\n      <td>12.583934</td>\n      <td>12.599499</td>\n      <td>12.527210</td>\n      <td>12.636333</td>\n      <td>12.440678</td>\n      <td>12.555278</td>\n      <td>12.617759</td>\n      <td>12.909895</td>\n      <td>12.578293</td>\n      <td>12.685735</td>\n    </tr>\n    <tr>\n      <th>18</th>\n      <td>19</td>\n      <td>S70</td>\n      <td>P135</td>\n      <td>DNHS</td>\n      <td>0.0</td>\n      <td>NaN</td>\n      <td>NaN</td>\n      <td>NaN</td>\n      <td>NaN</td>\n      <td>NaN</td>\n      <td>...</td>\n      <td>12.456166</td>\n      <td>12.597872</td>\n      <td>12.496037</td>\n      <td>12.652614</td>\n      <td>12.457952</td>\n      <td>12.487103</td>\n      <td>12.521334</td>\n      <td>12.823034</td>\n      <td>12.541253</td>\n      <td>12.606741</td>\n    </tr>\n    <tr>\n      <th>21</th>\n      <td>22</td>\n      <td>S2</td>\n      <td>P135</td>\n      <td>DNHS</td>\n      <td>0.0</td>\n      <td>NaN</td>\n      <td>NaN</td>\n      <td>NaN</td>\n      <td>NaN</td>\n      <td>NaN</td>\n      <td>...</td>\n      <td>12.481201</td>\n      <td>12.621694</td>\n      <td>12.415145</td>\n      <td>12.616261</td>\n      <td>12.450933</td>\n      <td>12.536485</td>\n      <td>12.559103</td>\n      <td>12.795596</td>\n      <td>12.552749</td>\n      <td>12.618074</td>\n    </tr>\n    <tr>\n      <th>26</th>\n      <td>27</td>\n      <td>S83</td>\n      <td>P136</td>\n      <td>DNHS</td>\n      <td>0.0</td>\n      <td>NaN</td>\n      <td>NaN</td>\n      <td>NaN</td>\n      <td>NaN</td>\n      <td>NaN</td>\n      <td>...</td>\n      <td>12.403677</td>\n      <td>12.545281</td>\n      <td>NaN</td>\n      <td>12.439043</td>\n      <td>12.489224</td>\n      <td>12.565305</td>\n      <td>12.600430</td>\n      <td>12.764371</td>\n      <td>12.561835</td>\n      <td>NaN</td>\n    </tr>\n    <tr>\n      <th>27</th>\n      <td>28</td>\n      <td>S41</td>\n      <td>P136</td>\n      <td>DNHS</td>\n      <td>0.0</td>\n      <td>NaN</td>\n      <td>NaN</td>\n      <td>NaN</td>\n      <td>NaN</td>\n      <td>NaN</td>\n      <td>...</td>\n      <td>12.391321</td>\n      <td>12.450349</td>\n      <td>12.378164</td>\n      <td>12.358069</td>\n      <td>12.510605</td>\n      <td>12.474641</td>\n      <td>12.471794</td>\n      <td>12.904288</td>\n      <td>12.526909</td>\n      <td>NaN</td>\n    </tr>\n    <tr>\n      <th>31</th>\n      <td>32</td>\n      <td>S276</td>\n      <td>P7</td>\n      <td>DNHS</td>\n      <td>1.0</td>\n      <td>10.90</td>\n      <td>1.461988</td>\n      <td>0.155763</td>\n      <td>0.114155</td>\n      <td>317.0</td>\n      <td>...</td>\n      <td>12.476450</td>\n      <td>12.425208</td>\n      <td>NaN</td>\n      <td>12.397139</td>\n      <td>12.523445</td>\n      <td>12.530703</td>\n      <td>12.503940</td>\n      <td>12.791145</td>\n      <td>12.471993</td>\n      <td>12.604703</td>\n    </tr>\n    <tr>\n      <th>32</th>\n      <td>33</td>\n      <td>S302</td>\n      <td>P7</td>\n      <td>DNHS</td>\n      <td>1.0</td>\n      <td>11.94</td>\n      <td>0.995025</td>\n      <td>0.117233</td>\n      <td>0.093284</td>\n      <td>150.0</td>\n      <td>...</td>\n      <td>NaN</td>\n      <td>NaN</td>\n      <td>NaN</td>\n      <td>NaN</td>\n      <td>12.397159</td>\n      <td>NaN</td>\n      <td>NaN</td>\n      <td>NaN</td>\n      <td>NaN</td>\n      <td>NaN</td>\n    </tr>\n    <tr>\n      <th>33</th>\n      <td>34</td>\n      <td>S351</td>\n      <td>P7</td>\n      <td>DNHS</td>\n      <td>1.0</td>\n      <td>12.67</td>\n      <td>0.923361</td>\n      <td>0.092764</td>\n      <td>0.070972</td>\n      <td>NaN</td>\n      <td>...</td>\n      <td>12.476410</td>\n      <td>12.483707</td>\n      <td>NaN</td>\n      <td>12.294553</td>\n      <td>12.562372</td>\n      <td>12.481790</td>\n      <td>12.456831</td>\n      <td>13.131979</td>\n      <td>12.578485</td>\n      <td>NaN</td>\n    </tr>\n    <tr>\n      <th>35</th>\n      <td>36</td>\n      <td>S348</td>\n      <td>P9</td>\n      <td>DNHS</td>\n      <td>1.0</td>\n      <td>11.12</td>\n      <td>NaN</td>\n      <td>0.196078</td>\n      <td>NaN</td>\n      <td>NaN</td>\n      <td>...</td>\n      <td>12.428524</td>\n      <td>12.626223</td>\n      <td>NaN</td>\n      <td>12.414213</td>\n      <td>12.507686</td>\n      <td>12.588375</td>\n      <td>12.506773</td>\n      <td>NaN</td>\n      <td>12.445122</td>\n      <td>NaN</td>\n    </tr>\n    <tr>\n      <th>36</th>\n      <td>37</td>\n      <td>S286</td>\n      <td>P9</td>\n      <td>DNHS</td>\n      <td>1.0</td>\n      <td>12.03</td>\n      <td>1.020408</td>\n      <td>0.112360</td>\n      <td>NaN</td>\n      <td>75.0</td>\n      <td>...</td>\n      <td>12.380450</td>\n      <td>12.483917</td>\n      <td>NaN</td>\n      <td>12.590108</td>\n      <td>12.615858</td>\n      <td>12.488005</td>\n      <td>12.546289</td>\n      <td>12.861138</td>\n      <td>12.520447</td>\n      <td>NaN</td>\n    </tr>\n    <tr>\n      <th>38</th>\n      <td>39</td>\n      <td>S273</td>\n      <td>P10</td>\n      <td>DNHS</td>\n      <td>1.0</td>\n      <td>11.58</td>\n      <td>0.869565</td>\n      <td>NaN</td>\n      <td>0.000000</td>\n      <td>209.0</td>\n      <td>...</td>\n      <td>12.488839</td>\n      <td>12.597753</td>\n      <td>12.562960</td>\n      <td>12.415403</td>\n      <td>12.642297</td>\n      <td>12.629846</td>\n      <td>12.642667</td>\n      <td>13.134355</td>\n      <td>12.628539</td>\n      <td>12.773149</td>\n    </tr>\n  </tbody>\n</table>\n<p>15 rows × 976 columns</p>\n</div>"
     },
     "execution_count": 50,
     "metadata": {},
     "output_type": "execute_result"
    }
   ],
   "source": [
    "# Drop rows with NaN values in the FT5 column\n",
    "not_na = dataset['FT5'].notna()\n",
    "indices_to_drop = not_na[not_na == False].index\n",
    "\n",
    "# Check changes\n",
    "print(\"Before drop:\", dataset.shape)\n",
    "dataset.drop(indices_to_drop, inplace=True)\n",
    "print(\"After drop:\", dataset.shape)\n",
    "\n",
    "dataset.head(15)"
   ]
  },
  {
   "cell_type": "raw",
   "source": [
    "## Cleaned Data Export"
   ],
   "metadata": {
    "collapsed": false
   }
  },
  {
   "cell_type": "code",
   "execution_count": 51,
   "metadata": {
    "ExecuteTime": {
     "end_time": "2024-04-24T14:05:43.160683Z",
     "start_time": "2024-04-24T14:05:42.749569Z"
    }
   },
   "outputs": [
    {
     "data": {
      "text/plain": "    ID Sample_ID Participant_ID Dataset  Disease    Age       FT1       FT2  \\\n5    6      S237             P5    DNHS      1.0  11.72  2.538071  0.628931   \n6    7      S220             P5    DNHS      1.0  13.41  2.531646  0.492611   \n8    9       S91             P6    DNHS      1.0  11.76  2.237136  0.346021   \n9   10       S49           P134    DNHS      0.0    NaN       NaN       NaN   \n16  17       S79           P134    DNHS      0.0    NaN       NaN       NaN   \n\n         FT3    FT4  ...  HPA049320_SBA4_rep1  HPA051620_SBA4_rep1  \\\n5   0.367647  488.7  ...            12.543301            12.608368   \n6   0.275482  475.0  ...            12.390816            12.571472   \n8   0.176991  449.0  ...            12.464468            12.599863   \n9        NaN    NaN  ...            12.560804            12.531565   \n16       NaN    NaN  ...            12.583934            12.599499   \n\n    HPA054862_SBA4_rep1  HPA003901_SBA4_rep1  HPA035863_SBA4_rep1  \\\n5                   NaN                  NaN            12.598509   \n6             12.389882            12.490296            12.522449   \n8             12.459217            12.509688            12.482434   \n9             12.490397            12.419143            12.585085   \n16            12.527210            12.636333            12.440678   \n\n    HPA040052_SBA4_rep1  HPA041542_SBA4_rep1  HPA044582_SBA4_rep1  \\\n5             12.452527            12.495444            12.800951   \n6             12.519723            12.413517            12.917533   \n8             12.507582            12.593243            12.733109   \n9             12.509866            12.386933            12.820761   \n16            12.555278            12.617759            12.909895   \n\n    HPA045702_SBA4_rep1  HPA048982_SBA4_rep1  \n5             12.696679            12.602999  \n6             12.514924            12.618601  \n8             12.554774            12.587261  \n9             12.532538            12.661084  \n16            12.578293            12.685735  \n\n[5 rows x 976 columns]",
      "text/html": "<div>\n<style scoped>\n    .dataframe tbody tr th:only-of-type {\n        vertical-align: middle;\n    }\n\n    .dataframe tbody tr th {\n        vertical-align: top;\n    }\n\n    .dataframe thead th {\n        text-align: right;\n    }\n</style>\n<table border=\"1\" class=\"dataframe\">\n  <thead>\n    <tr style=\"text-align: right;\">\n      <th></th>\n      <th>ID</th>\n      <th>Sample_ID</th>\n      <th>Participant_ID</th>\n      <th>Dataset</th>\n      <th>Disease</th>\n      <th>Age</th>\n      <th>FT1</th>\n      <th>FT2</th>\n      <th>FT3</th>\n      <th>FT4</th>\n      <th>...</th>\n      <th>HPA049320_SBA4_rep1</th>\n      <th>HPA051620_SBA4_rep1</th>\n      <th>HPA054862_SBA4_rep1</th>\n      <th>HPA003901_SBA4_rep1</th>\n      <th>HPA035863_SBA4_rep1</th>\n      <th>HPA040052_SBA4_rep1</th>\n      <th>HPA041542_SBA4_rep1</th>\n      <th>HPA044582_SBA4_rep1</th>\n      <th>HPA045702_SBA4_rep1</th>\n      <th>HPA048982_SBA4_rep1</th>\n    </tr>\n  </thead>\n  <tbody>\n    <tr>\n      <th>5</th>\n      <td>6</td>\n      <td>S237</td>\n      <td>P5</td>\n      <td>DNHS</td>\n      <td>1.0</td>\n      <td>11.72</td>\n      <td>2.538071</td>\n      <td>0.628931</td>\n      <td>0.367647</td>\n      <td>488.7</td>\n      <td>...</td>\n      <td>12.543301</td>\n      <td>12.608368</td>\n      <td>NaN</td>\n      <td>NaN</td>\n      <td>12.598509</td>\n      <td>12.452527</td>\n      <td>12.495444</td>\n      <td>12.800951</td>\n      <td>12.696679</td>\n      <td>12.602999</td>\n    </tr>\n    <tr>\n      <th>6</th>\n      <td>7</td>\n      <td>S220</td>\n      <td>P5</td>\n      <td>DNHS</td>\n      <td>1.0</td>\n      <td>13.41</td>\n      <td>2.531646</td>\n      <td>0.492611</td>\n      <td>0.275482</td>\n      <td>475.0</td>\n      <td>...</td>\n      <td>12.390816</td>\n      <td>12.571472</td>\n      <td>12.389882</td>\n      <td>12.490296</td>\n      <td>12.522449</td>\n      <td>12.519723</td>\n      <td>12.413517</td>\n      <td>12.917533</td>\n      <td>12.514924</td>\n      <td>12.618601</td>\n    </tr>\n    <tr>\n      <th>8</th>\n      <td>9</td>\n      <td>S91</td>\n      <td>P6</td>\n      <td>DNHS</td>\n      <td>1.0</td>\n      <td>11.76</td>\n      <td>2.237136</td>\n      <td>0.346021</td>\n      <td>0.176991</td>\n      <td>449.0</td>\n      <td>...</td>\n      <td>12.464468</td>\n      <td>12.599863</td>\n      <td>12.459217</td>\n      <td>12.509688</td>\n      <td>12.482434</td>\n      <td>12.507582</td>\n      <td>12.593243</td>\n      <td>12.733109</td>\n      <td>12.554774</td>\n      <td>12.587261</td>\n    </tr>\n    <tr>\n      <th>9</th>\n      <td>10</td>\n      <td>S49</td>\n      <td>P134</td>\n      <td>DNHS</td>\n      <td>0.0</td>\n      <td>NaN</td>\n      <td>NaN</td>\n      <td>NaN</td>\n      <td>NaN</td>\n      <td>NaN</td>\n      <td>...</td>\n      <td>12.560804</td>\n      <td>12.531565</td>\n      <td>12.490397</td>\n      <td>12.419143</td>\n      <td>12.585085</td>\n      <td>12.509866</td>\n      <td>12.386933</td>\n      <td>12.820761</td>\n      <td>12.532538</td>\n      <td>12.661084</td>\n    </tr>\n    <tr>\n      <th>16</th>\n      <td>17</td>\n      <td>S79</td>\n      <td>P134</td>\n      <td>DNHS</td>\n      <td>0.0</td>\n      <td>NaN</td>\n      <td>NaN</td>\n      <td>NaN</td>\n      <td>NaN</td>\n      <td>NaN</td>\n      <td>...</td>\n      <td>12.583934</td>\n      <td>12.599499</td>\n      <td>12.527210</td>\n      <td>12.636333</td>\n      <td>12.440678</td>\n      <td>12.555278</td>\n      <td>12.617759</td>\n      <td>12.909895</td>\n      <td>12.578293</td>\n      <td>12.685735</td>\n    </tr>\n  </tbody>\n</table>\n<p>5 rows × 976 columns</p>\n</div>"
     },
     "execution_count": 51,
     "metadata": {},
     "output_type": "execute_result"
    }
   ],
   "source": [
    "# Export cleaned data to a new CSV file\n",
    "dataset.to_csv('cleaned_data.csv', index=False)\n",
    "dataset.head()"
   ]
  }
 ],
 "metadata": {
  "colab": {
   "provenance": []
  },
  "kernelspec": {
   "display_name": "Python 3 (ipykernel)",
   "language": "python",
   "name": "python3"
  },
  "language_info": {
   "codemirror_mode": {
    "name": "ipython",
    "version": 3
   },
   "file_extension": ".py",
   "mimetype": "text/x-python",
   "name": "python",
   "nbconvert_exporter": "python",
   "pygments_lexer": "ipython3",
   "version": "3.12.2"
  }
 },
 "nbformat": 4,
 "nbformat_minor": 0
}
