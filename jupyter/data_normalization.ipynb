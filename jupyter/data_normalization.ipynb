{
 "cells": [
  {
   "cell_type": "markdown",
   "metadata": {},
   "source": [
    "# Data Normalization"
   ]
  },
  {
   "cell_type": "code",
   "execution_count": 1,
   "metadata": {
    "ExecuteTime": {
     "end_time": "2024-04-24T14:06:35.861857Z",
     "start_time": "2024-04-24T14:06:35.429980Z"
    }
   },
   "source": [
    "import pandas as pd"
   ],
   "outputs": []
  },
  {
   "cell_type": "code",
   "execution_count": 2,
   "metadata": {
    "ExecuteTime": {
     "end_time": "2024-04-24T14:06:36.004279Z",
     "start_time": "2024-04-24T14:06:35.862841Z"
    }
   },
   "source": [
    "dataset = pd.read_csv('cleaned_data.csv')\n",
    "dataset.head()"
   ],
   "outputs": []
  },
  {
   "cell_type": "code",
   "execution_count": 3,
   "metadata": {
    "ExecuteTime": {
     "end_time": "2024-04-24T14:06:36.043564Z",
     "start_time": "2024-04-24T14:06:36.005262Z"
    }
   },
   "source": [
    "# Get summary statistics for whole data set\n",
    "columns_to_normalize = list(range(4, dataset.shape[1]))\n",
    "max_values = dataset.iloc[:,columns_to_normalize].max()\n",
    "min_values = dataset.iloc[:,columns_to_normalize].min()\n",
    "med_values = dataset.iloc[:,columns_to_normalize].median()"
   ],
   "outputs": []
  },
  {
   "cell_type": "code",
   "execution_count": 4,
   "metadata": {
    "ExecuteTime": {
     "end_time": "2024-04-24T14:06:36.052580Z",
     "start_time": "2024-04-24T14:06:36.044549Z"
    }
   },
   "source": [
    "print(max_values)"
   ],
   "outputs": []
  },
  {
   "cell_type": "code",
   "execution_count": 5,
   "metadata": {
    "ExecuteTime": {
     "end_time": "2024-04-24T14:06:36.060462Z",
     "start_time": "2024-04-24T14:06:36.055565Z"
    }
   },
   "source": [
    "print(min_values)"
   ],
   "outputs": []
  },
  {
   "cell_type": "code",
   "execution_count": 6,
   "metadata": {
    "ExecuteTime": {
     "end_time": "2024-04-24T14:06:36.069448Z",
     "start_time": "2024-04-24T14:06:36.061444Z"
    }
   },
   "source": [
    "print(med_values)"
   ],
   "outputs": []
  },
  {
   "cell_type": "code",
   "execution_count": 7,
   "metadata": {
    "ExecuteTime": {
     "end_time": "2024-04-24T14:06:36.077445Z",
     "start_time": "2024-04-24T14:06:36.070448Z"
    }
   },
   "source": [
    "# Normalize dataset\n",
    "def normalize(df, columns, min_vals, max_vals):\n",
    "    \"\"\"\n",
    "    Normalize given columns in the given DataFrame using the provided dequences of minimum and maximum values.\n",
    "\n",
    "    X_normalized = (X - X_min) / (X_max - X_min)\n",
    "\n",
    "    :param df: A pandas DataFrame to normalize.\n",
    "    :param columns: A list of column indices to normalize.\n",
    "    :param min_vals: A pandas Series of minimum values for each column.\n",
    "    :param max_vals: A pandas Series of maximum values for each column.\n",
    "    :return: A normalized pandas DataFrame.\n",
    "    \"\"\"\n",
    "    # Create a copy of the DataFrame\n",
    "    df_normalized = df.copy()\n",
    "\n",
    "    # Normalize the specified columns\n",
    "    for col in columns:\n",
    "        # if col == 296:\n",
    "        #     break\n",
    "        col_range = max_vals[col-4] - min_vals[col-4]\n",
    "        # Normalize the current column using scaling formula\n",
    "        df_normalized.iloc[:, col] = (df.iloc[:, col] - min_vals[col-4]) / col_range\n",
    "        # print(df_normalized.iloc[:, col])\n",
    "\n",
    "    return df_normalized"
   ],
   "outputs": []
  },
  {
   "cell_type": "code",
   "execution_count": 8,
   "metadata": {
    "ExecuteTime": {
     "end_time": "2024-04-24T14:06:36.410737Z",
     "start_time": "2024-04-24T14:06:36.078445Z"
    }
   },
   "source": [
    "dataset_normalized = normalize(dataset, columns_to_normalize, min_values, max_values)"
   ],
   "outputs": []
  },
  {
   "cell_type": "code",
   "execution_count": 9,
   "metadata": {
    "ExecuteTime": {
     "end_time": "2024-04-24T14:06:37.284535Z",
     "start_time": "2024-04-24T14:06:36.411728Z"
    }
   },
   "source": [
    "# Export cleaned data to a new CSV file\n",
    "dataset_normalized.to_csv('normalized_data.csv', index=False)\n",
    "dataset_normalized"
   ],
   "outputs": []
  }
 ],
 "metadata": {
  "kernelspec": {
   "display_name": "venv",
   "language": "python",
   "name": "python3"
  },
  "language_info": {
   "codemirror_mode": {
    "name": "ipython",
    "version": 3
   },
   "file_extension": ".py",
   "mimetype": "text/x-python",
   "name": "python",
   "nbconvert_exporter": "python",
   "pygments_lexer": "ipython3",
   "version": "3.12.2"
  }
 },
 "nbformat": 4,
 "nbformat_minor": 2
}
