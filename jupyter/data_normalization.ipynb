{
 "cells": [
  {
   "cell_type": "markdown",
   "metadata": {},
   "source": [
    "# Data Normalization"
   ]
  },
  {
   "cell_type": "code",
   "execution_count": 1,
   "metadata": {
    "ExecuteTime": {
     "end_time": "2024-04-24T14:06:35.861857Z",
     "start_time": "2024-04-24T14:06:35.429980Z"
    }
   },
   "outputs": [],
   "source": [
    "import pandas as pd"
   ]
  },
  {
   "cell_type": "code",
   "execution_count": 2,
   "metadata": {
    "ExecuteTime": {
     "end_time": "2024-04-24T14:06:36.004279Z",
     "start_time": "2024-04-24T14:06:35.862841Z"
    }
   },
   "outputs": [
    {
     "data": {
      "text/plain": "   ID Sample_ID Participant_ID Dataset  Disease    Age       FT1       FT2  \\\n0   6      S237             P5    DNHS      1.0  11.72  2.538071  0.628931   \n1   7      S220             P5    DNHS      1.0  13.41  2.531646  0.492611   \n2   9       S91             P6    DNHS      1.0  11.76  2.237136  0.346021   \n3  10       S49           P134    DNHS      0.0    NaN       NaN       NaN   \n4  17       S79           P134    DNHS      0.0    NaN       NaN       NaN   \n\n        FT3    FT4  ...  HPA049320_SBA4_rep1  HPA051620_SBA4_rep1  \\\n0  0.367647  488.7  ...            12.543301            12.608368   \n1  0.275482  475.0  ...            12.390816            12.571472   \n2  0.176991  449.0  ...            12.464468            12.599863   \n3       NaN    NaN  ...            12.560804            12.531565   \n4       NaN    NaN  ...            12.583934            12.599499   \n\n   HPA054862_SBA4_rep1  HPA003901_SBA4_rep1  HPA035863_SBA4_rep1  \\\n0                  NaN                  NaN            12.598509   \n1            12.389882            12.490296            12.522449   \n2            12.459217            12.509688            12.482434   \n3            12.490397            12.419143            12.585085   \n4            12.527210            12.636333            12.440678   \n\n   HPA040052_SBA4_rep1  HPA041542_SBA4_rep1  HPA044582_SBA4_rep1  \\\n0            12.452527            12.495444            12.800951   \n1            12.519723            12.413517            12.917533   \n2            12.507582            12.593243            12.733109   \n3            12.509866            12.386933            12.820761   \n4            12.555278            12.617759            12.909895   \n\n   HPA045702_SBA4_rep1  HPA048982_SBA4_rep1  \n0            12.696679            12.602999  \n1            12.514924            12.618601  \n2            12.554774            12.587261  \n3            12.532538            12.661084  \n4            12.578293            12.685735  \n\n[5 rows x 976 columns]",
      "text/html": "<div>\n<style scoped>\n    .dataframe tbody tr th:only-of-type {\n        vertical-align: middle;\n    }\n\n    .dataframe tbody tr th {\n        vertical-align: top;\n    }\n\n    .dataframe thead th {\n        text-align: right;\n    }\n</style>\n<table border=\"1\" class=\"dataframe\">\n  <thead>\n    <tr style=\"text-align: right;\">\n      <th></th>\n      <th>ID</th>\n      <th>Sample_ID</th>\n      <th>Participant_ID</th>\n      <th>Dataset</th>\n      <th>Disease</th>\n      <th>Age</th>\n      <th>FT1</th>\n      <th>FT2</th>\n      <th>FT3</th>\n      <th>FT4</th>\n      <th>...</th>\n      <th>HPA049320_SBA4_rep1</th>\n      <th>HPA051620_SBA4_rep1</th>\n      <th>HPA054862_SBA4_rep1</th>\n      <th>HPA003901_SBA4_rep1</th>\n      <th>HPA035863_SBA4_rep1</th>\n      <th>HPA040052_SBA4_rep1</th>\n      <th>HPA041542_SBA4_rep1</th>\n      <th>HPA044582_SBA4_rep1</th>\n      <th>HPA045702_SBA4_rep1</th>\n      <th>HPA048982_SBA4_rep1</th>\n    </tr>\n  </thead>\n  <tbody>\n    <tr>\n      <th>0</th>\n      <td>6</td>\n      <td>S237</td>\n      <td>P5</td>\n      <td>DNHS</td>\n      <td>1.0</td>\n      <td>11.72</td>\n      <td>2.538071</td>\n      <td>0.628931</td>\n      <td>0.367647</td>\n      <td>488.7</td>\n      <td>...</td>\n      <td>12.543301</td>\n      <td>12.608368</td>\n      <td>NaN</td>\n      <td>NaN</td>\n      <td>12.598509</td>\n      <td>12.452527</td>\n      <td>12.495444</td>\n      <td>12.800951</td>\n      <td>12.696679</td>\n      <td>12.602999</td>\n    </tr>\n    <tr>\n      <th>1</th>\n      <td>7</td>\n      <td>S220</td>\n      <td>P5</td>\n      <td>DNHS</td>\n      <td>1.0</td>\n      <td>13.41</td>\n      <td>2.531646</td>\n      <td>0.492611</td>\n      <td>0.275482</td>\n      <td>475.0</td>\n      <td>...</td>\n      <td>12.390816</td>\n      <td>12.571472</td>\n      <td>12.389882</td>\n      <td>12.490296</td>\n      <td>12.522449</td>\n      <td>12.519723</td>\n      <td>12.413517</td>\n      <td>12.917533</td>\n      <td>12.514924</td>\n      <td>12.618601</td>\n    </tr>\n    <tr>\n      <th>2</th>\n      <td>9</td>\n      <td>S91</td>\n      <td>P6</td>\n      <td>DNHS</td>\n      <td>1.0</td>\n      <td>11.76</td>\n      <td>2.237136</td>\n      <td>0.346021</td>\n      <td>0.176991</td>\n      <td>449.0</td>\n      <td>...</td>\n      <td>12.464468</td>\n      <td>12.599863</td>\n      <td>12.459217</td>\n      <td>12.509688</td>\n      <td>12.482434</td>\n      <td>12.507582</td>\n      <td>12.593243</td>\n      <td>12.733109</td>\n      <td>12.554774</td>\n      <td>12.587261</td>\n    </tr>\n    <tr>\n      <th>3</th>\n      <td>10</td>\n      <td>S49</td>\n      <td>P134</td>\n      <td>DNHS</td>\n      <td>0.0</td>\n      <td>NaN</td>\n      <td>NaN</td>\n      <td>NaN</td>\n      <td>NaN</td>\n      <td>NaN</td>\n      <td>...</td>\n      <td>12.560804</td>\n      <td>12.531565</td>\n      <td>12.490397</td>\n      <td>12.419143</td>\n      <td>12.585085</td>\n      <td>12.509866</td>\n      <td>12.386933</td>\n      <td>12.820761</td>\n      <td>12.532538</td>\n      <td>12.661084</td>\n    </tr>\n    <tr>\n      <th>4</th>\n      <td>17</td>\n      <td>S79</td>\n      <td>P134</td>\n      <td>DNHS</td>\n      <td>0.0</td>\n      <td>NaN</td>\n      <td>NaN</td>\n      <td>NaN</td>\n      <td>NaN</td>\n      <td>NaN</td>\n      <td>...</td>\n      <td>12.583934</td>\n      <td>12.599499</td>\n      <td>12.527210</td>\n      <td>12.636333</td>\n      <td>12.440678</td>\n      <td>12.555278</td>\n      <td>12.617759</td>\n      <td>12.909895</td>\n      <td>12.578293</td>\n      <td>12.685735</td>\n    </tr>\n  </tbody>\n</table>\n<p>5 rows × 976 columns</p>\n</div>"
     },
     "execution_count": 2,
     "metadata": {},
     "output_type": "execute_result"
    }
   ],
   "source": [
    "dataset = pd.read_csv('cleaned_data.csv')\n",
    "dataset.head()"
   ]
  },
  {
   "cell_type": "code",
   "execution_count": 3,
   "metadata": {
    "ExecuteTime": {
     "end_time": "2024-04-24T14:06:36.043564Z",
     "start_time": "2024-04-24T14:06:36.005262Z"
    }
   },
   "outputs": [],
   "source": [
    "# Get summary statistics for whole data set\n",
    "columns_to_normalize = list(range(4, dataset.shape[1]))\n",
    "max_values = dataset.iloc[:,columns_to_normalize].max()\n",
    "min_values = dataset.iloc[:,columns_to_normalize].min()\n",
    "med_values = dataset.iloc[:,columns_to_normalize].median()"
   ]
  },
  {
   "cell_type": "code",
   "execution_count": 4,
   "metadata": {
    "ExecuteTime": {
     "end_time": "2024-04-24T14:06:36.052580Z",
     "start_time": "2024-04-24T14:06:36.044549Z"
    }
   },
   "outputs": [
    {
     "name": "stdout",
     "output_type": "stream",
     "text": [
      "Disease                 1.000000\n",
      "Age                    13.500000\n",
      "FT1                     3.215434\n",
      "FT2                     0.628931\n",
      "FT3                     0.552486\n",
      "                         ...    \n",
      "HPA040052_SBA4_rep1    12.907514\n",
      "HPA041542_SBA4_rep1    12.814063\n",
      "HPA044582_SBA4_rep1    13.232916\n",
      "HPA045702_SBA4_rep1    12.821364\n",
      "HPA048982_SBA4_rep1    12.904314\n",
      "Length: 972, dtype: float64\n"
     ]
    }
   ],
   "source": [
    "print(max_values)"
   ]
  },
  {
   "cell_type": "code",
   "execution_count": 5,
   "metadata": {
    "ExecuteTime": {
     "end_time": "2024-04-24T14:06:36.060462Z",
     "start_time": "2024-04-24T14:06:36.055565Z"
    }
   },
   "outputs": [
    {
     "name": "stdout",
     "output_type": "stream",
     "text": [
      "Disease                 0.000000\n",
      "Age                     4.020000\n",
      "FT1                     0.000000\n",
      "FT2                     0.000000\n",
      "FT3                     0.000000\n",
      "                         ...    \n",
      "HPA040052_SBA4_rep1    12.280399\n",
      "HPA041542_SBA4_rep1    12.188121\n",
      "HPA044582_SBA4_rep1    12.580456\n",
      "HPA045702_SBA4_rep1    12.267231\n",
      "HPA048982_SBA4_rep1    12.209317\n",
      "Length: 972, dtype: float64\n"
     ]
    }
   ],
   "source": [
    "print(min_values)"
   ]
  },
  {
   "cell_type": "code",
   "execution_count": 6,
   "metadata": {
    "ExecuteTime": {
     "end_time": "2024-04-24T14:06:36.069448Z",
     "start_time": "2024-04-24T14:06:36.061444Z"
    }
   },
   "outputs": [
    {
     "name": "stdout",
     "output_type": "stream",
     "text": [
      "Disease                 1.000000\n",
      "Age                     7.010000\n",
      "FT1                     0.512755\n",
      "FT2                     0.251256\n",
      "FT3                     0.196078\n",
      "                         ...    \n",
      "HPA040052_SBA4_rep1    12.540655\n",
      "HPA041542_SBA4_rep1    12.558999\n",
      "HPA044582_SBA4_rep1    12.808425\n",
      "HPA045702_SBA4_rep1    12.534300\n",
      "HPA048982_SBA4_rep1    12.635727\n",
      "Length: 972, dtype: float64\n"
     ]
    }
   ],
   "source": [
    "print(med_values)"
   ]
  },
  {
   "cell_type": "code",
   "execution_count": 7,
   "metadata": {
    "ExecuteTime": {
     "end_time": "2024-04-24T14:06:36.077445Z",
     "start_time": "2024-04-24T14:06:36.070448Z"
    }
   },
   "outputs": [],
   "source": [
    "# Normalize dataset\n",
    "def normalize(df, columns, min_vals, max_vals):\n",
    "    \"\"\"\n",
    "    Normalize given columns in the given DataFrame using the provided dequences of minimum and maximum values.\n",
    "\n",
    "    X_normalized = (X - X_min) / (X_max - X_min)\n",
    "\n",
    "    :param df: A pandas DataFrame to normalize.\n",
    "    :param columns: A list of column indices to normalize.\n",
    "    :param min_vals: A pandas Series of minimum values for each column.\n",
    "    :param max_vals: A pandas Series of maximum values for each column.\n",
    "    :return: A normalized pandas DataFrame.\n",
    "    \"\"\"\n",
    "    # Create a copy of the DataFrame\n",
    "    df_normalized = df.copy()\n",
    "\n",
    "    # Normalize the specified columns\n",
    "    for col in columns:\n",
    "        # if col == 296:\n",
    "        #     break\n",
    "        col_range = max_vals[col-4] - min_vals[col-4]\n",
    "        # Normalize the current column using scaling formula\n",
    "        df_normalized.iloc[:, col] = (df.iloc[:, col] - min_vals[col-4]) / col_range\n",
    "        # print(df_normalized.iloc[:, col])\n",
    "\n",
    "    return df_normalized"
   ]
  },
  {
   "cell_type": "code",
   "execution_count": 8,
   "metadata": {
    "ExecuteTime": {
     "end_time": "2024-04-24T14:06:36.410737Z",
     "start_time": "2024-04-24T14:06:36.078445Z"
    }
   },
   "outputs": [
    {
     "name": "stderr",
     "output_type": "stream",
     "text": [
      "C:\\Users\\Noah\\AppData\\Local\\Temp\\ipykernel_1528\\4032007152.py:21: FutureWarning: Series.__getitem__ treating keys as positions is deprecated. In a future version, integer keys will always be treated as labels (consistent with DataFrame behavior). To access a value by position, use `ser.iloc[pos]`\n",
      "  col_range = max_vals[col-4] - min_vals[col-4]\n",
      "C:\\Users\\Noah\\AppData\\Local\\Temp\\ipykernel_1528\\4032007152.py:23: FutureWarning: Series.__getitem__ treating keys as positions is deprecated. In a future version, integer keys will always be treated as labels (consistent with DataFrame behavior). To access a value by position, use `ser.iloc[pos]`\n",
      "  df_normalized.iloc[:, col] = (df.iloc[:, col] - min_vals[col-4]) / col_range\n"
     ]
    }
   ],
   "source": [
    "dataset_normalized = normalize(dataset, columns_to_normalize, min_values, max_values)"
   ]
  },
  {
   "cell_type": "code",
   "execution_count": 9,
   "metadata": {
    "ExecuteTime": {
     "end_time": "2024-04-24T14:06:37.284535Z",
     "start_time": "2024-04-24T14:06:36.411728Z"
    }
   },
   "outputs": [
    {
     "data": {
      "text/plain": "      ID Sample_ID Participant_ID Dataset  Disease       Age       FT1  \\\n0      6      S237             P5    DNHS      1.0  0.812236  0.789340   \n1      7      S220             P5    DNHS      1.0  0.990506  0.787342   \n2      9       S91             P6    DNHS      1.0  0.816456  0.695749   \n3     10       S49           P134    DNHS      0.0       NaN       NaN   \n4     17       S79           P134    DNHS      0.0       NaN       NaN   \n..   ...       ...            ...     ...      ...       ...       ...   \n296  380      S306            P29  FORDMD      1.0  0.338389  0.086389   \n297  381      S300            P29  FORDMD      1.0  0.443513  0.081842   \n298  382      S174            P30  FORDMD      1.0  0.396438  0.042027   \n299  383       S94            P30  FORDMD      1.0  0.503584  0.037927   \n300  384       S92            P55  FORDMD      1.0  0.202651  0.048594   \n\n          FT2       FT3       FT4  ...  HPA049320_SBA4_rep1  \\\n0    1.000000  0.665441  0.516760  ...             0.652301   \n1    0.783251  0.498623  0.502273  ...             0.354054   \n2    0.550173  0.320354  0.474781  ...             0.498109   \n3         NaN       NaN       NaN  ...             0.686534   \n4         NaN       NaN       NaN  ...             0.731774   \n..        ...       ...       ...  ...                  ...   \n296       NaN  0.624138  0.555144  ...                  NaN   \n297       NaN  0.670370  0.404991  ...             0.464478   \n298       NaN  0.251389  0.370096  ...             0.750643   \n299       NaN  0.238158  0.352120  ...             0.939856   \n300       NaN  0.517143  0.363752  ...             0.715429   \n\n     HPA051620_SBA4_rep1  HPA054862_SBA4_rep1  HPA003901_SBA4_rep1  \\\n0               0.415807                  NaN                  NaN   \n1               0.364635             0.431287             0.472856   \n2               0.404011             0.531496             0.494356   \n3               0.309285             0.576559             0.393971   \n4               0.403507             0.629765             0.634763   \n..                   ...                  ...                  ...   \n296             0.241090                  NaN             0.491827   \n297             0.364822                  NaN                  NaN   \n298             0.227890             0.569516             0.569107   \n299             0.359113             0.435914             0.600841   \n300             0.385756             0.366899             0.520355   \n\n     HPA035863_SBA4_rep1  HPA040052_SBA4_rep1  HPA041542_SBA4_rep1  \\\n0               0.462314             0.274476             0.490977   \n1               0.312034             0.381628             0.360091   \n2               0.232971             0.362268             0.647220   \n3               0.435790             0.365910             0.317621   \n4               0.150468             0.438323             0.686387   \n..                   ...                  ...                  ...   \n296             0.195225                  NaN                  NaN   \n297             0.564109             0.134264             0.573000   \n298             0.347931             0.299770             0.595741   \n299             0.104144             0.486267             0.701801   \n300             0.383739             0.369249             0.324208   \n\n     HPA044582_SBA4_rep1  HPA045702_SBA4_rep1  HPA048982_SBA4_rep1  \n0               0.337944             0.774992             0.566452  \n1               0.516626             0.446992             0.588900  \n2               0.233966             0.518906             0.543806  \n3               0.368307             0.478779             0.650028  \n4               0.504920             0.561350             0.685496  \n..                   ...                  ...                  ...  \n296             0.526869             0.572850                  NaN  \n297             0.304281                  NaN                  NaN  \n298             0.278654             0.406736             0.635230  \n299             0.495797             0.581823             0.660074  \n300             0.449619             0.450812             0.770838  \n\n[301 rows x 976 columns]",
      "text/html": "<div>\n<style scoped>\n    .dataframe tbody tr th:only-of-type {\n        vertical-align: middle;\n    }\n\n    .dataframe tbody tr th {\n        vertical-align: top;\n    }\n\n    .dataframe thead th {\n        text-align: right;\n    }\n</style>\n<table border=\"1\" class=\"dataframe\">\n  <thead>\n    <tr style=\"text-align: right;\">\n      <th></th>\n      <th>ID</th>\n      <th>Sample_ID</th>\n      <th>Participant_ID</th>\n      <th>Dataset</th>\n      <th>Disease</th>\n      <th>Age</th>\n      <th>FT1</th>\n      <th>FT2</th>\n      <th>FT3</th>\n      <th>FT4</th>\n      <th>...</th>\n      <th>HPA049320_SBA4_rep1</th>\n      <th>HPA051620_SBA4_rep1</th>\n      <th>HPA054862_SBA4_rep1</th>\n      <th>HPA003901_SBA4_rep1</th>\n      <th>HPA035863_SBA4_rep1</th>\n      <th>HPA040052_SBA4_rep1</th>\n      <th>HPA041542_SBA4_rep1</th>\n      <th>HPA044582_SBA4_rep1</th>\n      <th>HPA045702_SBA4_rep1</th>\n      <th>HPA048982_SBA4_rep1</th>\n    </tr>\n  </thead>\n  <tbody>\n    <tr>\n      <th>0</th>\n      <td>6</td>\n      <td>S237</td>\n      <td>P5</td>\n      <td>DNHS</td>\n      <td>1.0</td>\n      <td>0.812236</td>\n      <td>0.789340</td>\n      <td>1.000000</td>\n      <td>0.665441</td>\n      <td>0.516760</td>\n      <td>...</td>\n      <td>0.652301</td>\n      <td>0.415807</td>\n      <td>NaN</td>\n      <td>NaN</td>\n      <td>0.462314</td>\n      <td>0.274476</td>\n      <td>0.490977</td>\n      <td>0.337944</td>\n      <td>0.774992</td>\n      <td>0.566452</td>\n    </tr>\n    <tr>\n      <th>1</th>\n      <td>7</td>\n      <td>S220</td>\n      <td>P5</td>\n      <td>DNHS</td>\n      <td>1.0</td>\n      <td>0.990506</td>\n      <td>0.787342</td>\n      <td>0.783251</td>\n      <td>0.498623</td>\n      <td>0.502273</td>\n      <td>...</td>\n      <td>0.354054</td>\n      <td>0.364635</td>\n      <td>0.431287</td>\n      <td>0.472856</td>\n      <td>0.312034</td>\n      <td>0.381628</td>\n      <td>0.360091</td>\n      <td>0.516626</td>\n      <td>0.446992</td>\n      <td>0.588900</td>\n    </tr>\n    <tr>\n      <th>2</th>\n      <td>9</td>\n      <td>S91</td>\n      <td>P6</td>\n      <td>DNHS</td>\n      <td>1.0</td>\n      <td>0.816456</td>\n      <td>0.695749</td>\n      <td>0.550173</td>\n      <td>0.320354</td>\n      <td>0.474781</td>\n      <td>...</td>\n      <td>0.498109</td>\n      <td>0.404011</td>\n      <td>0.531496</td>\n      <td>0.494356</td>\n      <td>0.232971</td>\n      <td>0.362268</td>\n      <td>0.647220</td>\n      <td>0.233966</td>\n      <td>0.518906</td>\n      <td>0.543806</td>\n    </tr>\n    <tr>\n      <th>3</th>\n      <td>10</td>\n      <td>S49</td>\n      <td>P134</td>\n      <td>DNHS</td>\n      <td>0.0</td>\n      <td>NaN</td>\n      <td>NaN</td>\n      <td>NaN</td>\n      <td>NaN</td>\n      <td>NaN</td>\n      <td>...</td>\n      <td>0.686534</td>\n      <td>0.309285</td>\n      <td>0.576559</td>\n      <td>0.393971</td>\n      <td>0.435790</td>\n      <td>0.365910</td>\n      <td>0.317621</td>\n      <td>0.368307</td>\n      <td>0.478779</td>\n      <td>0.650028</td>\n    </tr>\n    <tr>\n      <th>4</th>\n      <td>17</td>\n      <td>S79</td>\n      <td>P134</td>\n      <td>DNHS</td>\n      <td>0.0</td>\n      <td>NaN</td>\n      <td>NaN</td>\n      <td>NaN</td>\n      <td>NaN</td>\n      <td>NaN</td>\n      <td>...</td>\n      <td>0.731774</td>\n      <td>0.403507</td>\n      <td>0.629765</td>\n      <td>0.634763</td>\n      <td>0.150468</td>\n      <td>0.438323</td>\n      <td>0.686387</td>\n      <td>0.504920</td>\n      <td>0.561350</td>\n      <td>0.685496</td>\n    </tr>\n    <tr>\n      <th>...</th>\n      <td>...</td>\n      <td>...</td>\n      <td>...</td>\n      <td>...</td>\n      <td>...</td>\n      <td>...</td>\n      <td>...</td>\n      <td>...</td>\n      <td>...</td>\n      <td>...</td>\n      <td>...</td>\n      <td>...</td>\n      <td>...</td>\n      <td>...</td>\n      <td>...</td>\n      <td>...</td>\n      <td>...</td>\n      <td>...</td>\n      <td>...</td>\n      <td>...</td>\n      <td>...</td>\n    </tr>\n    <tr>\n      <th>296</th>\n      <td>380</td>\n      <td>S306</td>\n      <td>P29</td>\n      <td>FORDMD</td>\n      <td>1.0</td>\n      <td>0.338389</td>\n      <td>0.086389</td>\n      <td>NaN</td>\n      <td>0.624138</td>\n      <td>0.555144</td>\n      <td>...</td>\n      <td>NaN</td>\n      <td>0.241090</td>\n      <td>NaN</td>\n      <td>0.491827</td>\n      <td>0.195225</td>\n      <td>NaN</td>\n      <td>NaN</td>\n      <td>0.526869</td>\n      <td>0.572850</td>\n      <td>NaN</td>\n    </tr>\n    <tr>\n      <th>297</th>\n      <td>381</td>\n      <td>S300</td>\n      <td>P29</td>\n      <td>FORDMD</td>\n      <td>1.0</td>\n      <td>0.443513</td>\n      <td>0.081842</td>\n      <td>NaN</td>\n      <td>0.670370</td>\n      <td>0.404991</td>\n      <td>...</td>\n      <td>0.464478</td>\n      <td>0.364822</td>\n      <td>NaN</td>\n      <td>NaN</td>\n      <td>0.564109</td>\n      <td>0.134264</td>\n      <td>0.573000</td>\n      <td>0.304281</td>\n      <td>NaN</td>\n      <td>NaN</td>\n    </tr>\n    <tr>\n      <th>298</th>\n      <td>382</td>\n      <td>S174</td>\n      <td>P30</td>\n      <td>FORDMD</td>\n      <td>1.0</td>\n      <td>0.396438</td>\n      <td>0.042027</td>\n      <td>NaN</td>\n      <td>0.251389</td>\n      <td>0.370096</td>\n      <td>...</td>\n      <td>0.750643</td>\n      <td>0.227890</td>\n      <td>0.569516</td>\n      <td>0.569107</td>\n      <td>0.347931</td>\n      <td>0.299770</td>\n      <td>0.595741</td>\n      <td>0.278654</td>\n      <td>0.406736</td>\n      <td>0.635230</td>\n    </tr>\n    <tr>\n      <th>299</th>\n      <td>383</td>\n      <td>S94</td>\n      <td>P30</td>\n      <td>FORDMD</td>\n      <td>1.0</td>\n      <td>0.503584</td>\n      <td>0.037927</td>\n      <td>NaN</td>\n      <td>0.238158</td>\n      <td>0.352120</td>\n      <td>...</td>\n      <td>0.939856</td>\n      <td>0.359113</td>\n      <td>0.435914</td>\n      <td>0.600841</td>\n      <td>0.104144</td>\n      <td>0.486267</td>\n      <td>0.701801</td>\n      <td>0.495797</td>\n      <td>0.581823</td>\n      <td>0.660074</td>\n    </tr>\n    <tr>\n      <th>300</th>\n      <td>384</td>\n      <td>S92</td>\n      <td>P55</td>\n      <td>FORDMD</td>\n      <td>1.0</td>\n      <td>0.202651</td>\n      <td>0.048594</td>\n      <td>NaN</td>\n      <td>0.517143</td>\n      <td>0.363752</td>\n      <td>...</td>\n      <td>0.715429</td>\n      <td>0.385756</td>\n      <td>0.366899</td>\n      <td>0.520355</td>\n      <td>0.383739</td>\n      <td>0.369249</td>\n      <td>0.324208</td>\n      <td>0.449619</td>\n      <td>0.450812</td>\n      <td>0.770838</td>\n    </tr>\n  </tbody>\n</table>\n<p>301 rows × 976 columns</p>\n</div>"
     },
     "execution_count": 9,
     "metadata": {},
     "output_type": "execute_result"
    }
   ],
   "source": [
    "# Export cleaned data to a new CSV file\n",
    "dataset_normalized.to_csv('normalized_data.csv', index=False)\n",
    "dataset_normalized"
   ]
  }
 ],
 "metadata": {
  "kernelspec": {
   "display_name": "venv",
   "language": "python",
   "name": "python3"
  },
  "language_info": {
   "codemirror_mode": {
    "name": "ipython",
    "version": 3
   },
   "file_extension": ".py",
   "mimetype": "text/x-python",
   "name": "python",
   "nbconvert_exporter": "python",
   "pygments_lexer": "ipython3",
   "version": "3.12.2"
  }
 },
 "nbformat": 4,
 "nbformat_minor": 2
}
